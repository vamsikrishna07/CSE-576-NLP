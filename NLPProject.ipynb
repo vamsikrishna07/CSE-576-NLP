{
 "cells": [
  {
   "cell_type": "markdown",
   "metadata": {
    "colab_type": "text",
    "id": "view-in-github"
   },
   "source": [
    "<a href=\"https://colab.research.google.com/github/swarooprm/CSE-576-NR-2/blob/master/NLPProject.ipynb\" target=\"_parent\"><img src=\"https://colab.research.google.com/assets/colab-badge.svg\" alt=\"Open In Colab\"/></a>"
   ]
  },
  {
   "cell_type": "markdown",
   "metadata": {
    "id": "lSh9Mj6MW_kJ"
   },
   "source": [
    "Import project library from github:"
   ]
  },
  {
   "cell_type": "code",
   "execution_count": 4,
   "metadata": {
    "colab": {
     "base_uri": "https://localhost:8080/"
    },
    "id": "Z_2N03DXY9ZT",
    "outputId": "870ce661-86b6-442e-c9c2-2ed7e13882bf"
   },
   "outputs": [
    {
     "name": "stderr",
     "output_type": "stream",
     "text": [
      "Cloning into 'injecting_numeracy'...\n"
     ]
    }
   ],
   "source": [
    "!git clone https://github.com/ag1988/injecting_numeracy.git"
   ]
  },
  {
   "cell_type": "markdown",
   "metadata": {
    "id": "Mg-zBTC7XGQ2"
   },
   "source": [
    "Checking the current working directory:"
   ]
  },
  {
   "cell_type": "code",
   "execution_count": 2,
   "metadata": {
    "colab": {
     "base_uri": "https://localhost:8080/"
    },
    "id": "CcrbMQC00yYS",
    "outputId": "81b25cce-cc89-430d-8c23-76a432e2cb7a"
   },
   "outputs": [
    {
     "name": "stderr",
     "output_type": "stream",
     "text": [
      "'pwd' is not recognized as an internal or external command,\n",
      "operable program or batch file.\n"
     ]
    }
   ],
   "source": [
    "# !pwd"
   ]
  },
  {
   "cell_type": "markdown",
   "metadata": {
    "id": "Cy81-w8IXNm8"
   },
   "source": [
    "Navigate to the pre-training directory:"
   ]
  },
  {
   "cell_type": "code",
   "execution_count": 5,
   "metadata": {
    "colab": {
     "base_uri": "https://localhost:8080/"
    },
    "id": "19JfeuKK1F9c",
    "outputId": "c14612c3-9b82-4895-c538-73e52cc39e04"
   },
   "outputs": [
    {
     "name": "stdout",
     "output_type": "stream",
     "text": [
      "D:\\Graduation Courses\\Semester 2\\NLP\\Project\\project_git\\CSE-576-NR-2\\injecting_numeracy\\pre_training\n"
     ]
    }
   ],
   "source": [
    "%cd injecting_numeracy/pre_training/"
   ]
  },
  {
   "cell_type": "markdown",
   "metadata": {
    "id": "sJmmc8viXR8k"
   },
   "source": [
    "Download the data files:"
   ]
  },
  {
   "cell_type": "code",
   "execution_count": 6,
   "metadata": {
    "colab": {
     "base_uri": "https://localhost:8080/"
    },
    "id": "Mv_ezMr81c7O",
    "outputId": "c13467c0-c22a-4520-92b5-07f1d671ed5e"
   },
   "outputs": [
    {
     "name": "stderr",
     "output_type": "stream",
     "text": [
      "'bash' is not recognized as an internal or external command,\n",
      "operable program or batch file.\n"
     ]
    }
   ],
   "source": [
    "!bash download.sh"
   ]
  },
  {
   "cell_type": "markdown",
   "metadata": {
    "id": "FS8eNfrLXmn_"
   },
   "source": [
    "Install the required libraries:"
   ]
  },
  {
   "cell_type": "code",
   "execution_count": null,
   "metadata": {
    "colab": {
     "base_uri": "https://localhost:8080/"
    },
    "id": "XqUPVLc4QsbL",
    "outputId": "46e6bf9d-9aa7-4200-f6f1-794968ed393d"
   },
   "outputs": [
    {
     "name": "stdout",
     "output_type": "stream",
     "text": [
      "Collecting allennlp==0.9\n",
      "\u001b[?25l  Downloading https://files.pythonhosted.org/packages/bb/bb/041115d8bad1447080e5d1e30097c95e4b66e36074277afce8620a61cee3/allennlp-0.9.0-py3-none-any.whl (7.6MB)\n",
      "\u001b[K     |████████████████████████████████| 7.6MB 2.3MB/s \n",
      "\u001b[?25hCollecting neuralcoref==4.0\n",
      "\u001b[?25l  Downloading https://files.pythonhosted.org/packages/ea/24/0ec7845a5b73b637aa691ff4d1b9b48f3a0f3369f4002a59ffd7a7462fdb/neuralcoref-4.0-cp36-cp36m-manylinux1_x86_64.whl (287kB)\n",
      "\u001b[K     |████████████████████████████████| 296kB 33.4MB/s \n",
      "\u001b[?25hCollecting spacy==2.1.3\n",
      "\u001b[?25l  Downloading https://files.pythonhosted.org/packages/52/da/3a1c54694c2d2f40df82f38a19ae14c6eb24a5a1a0dae87205ebea7a84d8/spacy-2.1.3-cp36-cp36m-manylinux1_x86_64.whl (27.7MB)\n",
      "\u001b[K     |████████████████████████████████| 27.7MB 139kB/s \n",
      "\u001b[?25hCollecting spacy-wordnet\n",
      "\u001b[?25l  Downloading https://files.pythonhosted.org/packages/f7/f2/4d8070df0f7a7a9eeed74eb7e9ce3cf41349eb5e06b1e088de9eeca630e2/spacy-wordnet-0.0.4.tar.gz (648kB)\n",
      "\u001b[K     |████████████████████████████████| 655kB 41.0MB/s \n",
      "\u001b[?25hCollecting torch==1.2.0\n",
      "\u001b[?25l  Downloading https://files.pythonhosted.org/packages/30/57/d5cceb0799c06733eefce80c395459f28970ebb9e896846ce96ab579a3f1/torch-1.2.0-cp36-cp36m-manylinux1_x86_64.whl (748.8MB)\n",
      "\u001b[K     |████████████████████████████████| 748.9MB 12kB/s \n",
      "\u001b[?25hCollecting nltk==3.4.5\n",
      "\u001b[?25l  Downloading https://files.pythonhosted.org/packages/f6/1d/d925cfb4f324ede997f6d47bea4d9babba51b49e87a767c170b77005889d/nltk-3.4.5.zip (1.5MB)\n",
      "\u001b[K     |████████████████████████████████| 1.5MB 41.5MB/s \n",
      "\u001b[?25hCollecting pytorch-pretrained-bert==0.6.2\n",
      "\u001b[?25l  Downloading https://files.pythonhosted.org/packages/d7/e0/c08d5553b89973d9a240605b9c12404bcf8227590de62bae27acbcfe076b/pytorch_pretrained_bert-0.6.2-py3-none-any.whl (123kB)\n",
      "\u001b[K     |████████████████████████████████| 133kB 49.0MB/s \n",
      "\u001b[?25hCollecting pytorch-transformers==1.1.0\n",
      "\u001b[?25l  Downloading https://files.pythonhosted.org/packages/50/89/ad0d6bb932d0a51793eaabcf1617a36ff530dc9ab9e38f765a35dc293306/pytorch_transformers-1.1.0-py3-none-any.whl (158kB)\n",
      "\u001b[K     |████████████████████████████████| 163kB 48.5MB/s \n",
      "\u001b[?25hCollecting tensorboardX\n",
      "\u001b[?25l  Downloading https://files.pythonhosted.org/packages/af/0c/4f41bcd45db376e6fe5c619c01100e9b7531c55791b7244815bac6eac32c/tensorboardX-2.1-py2.py3-none-any.whl (308kB)\n",
      "\u001b[K     |████████████████████████████████| 317kB 47.4MB/s \n",
      "\u001b[?25hRequirement already satisfied: tqdm in /usr/local/lib/python3.6/dist-packages (from -r requirements.txt (line 10)) (4.41.1)\n",
      "Collecting jsonlines\n",
      "  Downloading https://files.pythonhosted.org/packages/4f/9a/ab96291470e305504aa4b7a2e0ec132e930da89eb3ca7a82fbe03167c131/jsonlines-1.2.0-py2.py3-none-any.whl\n",
      "Collecting ujson\n",
      "\u001b[?25l  Downloading https://files.pythonhosted.org/packages/f1/84/e039c6ffc6603f2dfe966972d345d4f650a4ffd74b18c852ece645de12ac/ujson-4.0.1-cp36-cp36m-manylinux1_x86_64.whl (179kB)\n",
      "\u001b[K     |████████████████████████████████| 184kB 39.5MB/s \n",
      "\u001b[?25hCollecting overrides\n",
      "  Downloading https://files.pythonhosted.org/packages/ff/b1/10f69c00947518e6676bbd43e739733048de64b8dd998e9c2d5a71f44c5d/overrides-3.1.0.tar.gz\n",
      "Requirement already satisfied: requests>=2.18 in /usr/local/lib/python3.6/dist-packages (from allennlp==0.9->-r requirements.txt (line 1)) (2.23.0)\n",
      "Requirement already satisfied: scikit-learn in /usr/local/lib/python3.6/dist-packages (from allennlp==0.9->-r requirements.txt (line 1)) (0.22.2.post1)\n",
      "Requirement already satisfied: h5py in /usr/local/lib/python3.6/dist-packages (from allennlp==0.9->-r requirements.txt (line 1)) (2.10.0)\n",
      "Collecting responses>=0.7\n",
      "  Downloading https://files.pythonhosted.org/packages/c1/04/8a5258cfd851c9c89ae5c12c6952c05d42ca8c0788b999806e0c78d06c54/responses-0.12.0-py2.py3-none-any.whl\n",
      "Collecting parsimonious>=0.8.0\n",
      "\u001b[?25l  Downloading https://files.pythonhosted.org/packages/02/fc/067a3f89869a41009e1a7cdfb14725f8ddd246f30f63c645e8ef8a1c56f4/parsimonious-0.8.1.tar.gz (45kB)\n",
      "\u001b[K     |████████████████████████████████| 51kB 5.9MB/s \n",
      "\u001b[?25hRequirement already satisfied: matplotlib>=2.2.3 in /usr/local/lib/python3.6/dist-packages (from allennlp==0.9->-r requirements.txt (line 1)) (3.2.2)\n",
      "Collecting ftfy\n",
      "\u001b[?25l  Downloading https://files.pythonhosted.org/packages/ff/e2/3b51c53dffb1e52d9210ebc01f1fb9f2f6eba9b3201fa971fd3946643c71/ftfy-5.8.tar.gz (64kB)\n",
      "\u001b[K     |████████████████████████████████| 71kB 8.7MB/s \n",
      "\u001b[?25hCollecting gevent>=1.3.6\n",
      "\u001b[?25l  Downloading https://files.pythonhosted.org/packages/3f/92/b80b922f08f222faca53c8d278e2e612192bc74b0e1f0db2f80a6ee46982/gevent-20.9.0-cp36-cp36m-manylinux2010_x86_64.whl (5.3MB)\n",
      "\u001b[K     |████████████████████████████████| 5.3MB 40.3MB/s \n",
      "\u001b[?25hCollecting flask-cors>=3.0.7\n",
      "  Downloading https://files.pythonhosted.org/packages/69/7f/d0aeaaafb5c3c76c8d2141dbe2d4f6dca5d6c31872d4e5349768c1958abc/Flask_Cors-3.0.9-py2.py3-none-any.whl\n",
      "Collecting jsonpickle\n",
      "  Downloading https://files.pythonhosted.org/packages/af/ca/4fee219cc4113a5635e348ad951cf8a2e47fed2e3342312493f5b73d0007/jsonpickle-1.4.1-py2.py3-none-any.whl\n",
      "Requirement already satisfied: flask>=1.0.2 in /usr/local/lib/python3.6/dist-packages (from allennlp==0.9->-r requirements.txt (line 1)) (1.1.2)\n",
      "Collecting word2number>=1.1\n",
      "  Downloading https://files.pythonhosted.org/packages/4a/29/a31940c848521f0725f0df6b25dca8917f13a2025b0e8fcbe5d0457e45e6/word2number-1.1.zip\n",
      "Requirement already satisfied: scipy in /usr/local/lib/python3.6/dist-packages (from allennlp==0.9->-r requirements.txt (line 1)) (1.4.1)\n",
      "Collecting conllu==1.3.1\n",
      "  Downloading https://files.pythonhosted.org/packages/ae/54/b0ae1199f3d01666821b028cd967f7c0ac527ab162af433d3da69242cea2/conllu-1.3.1-py2.py3-none-any.whl\n",
      "Collecting unidecode\n",
      "\u001b[?25l  Downloading https://files.pythonhosted.org/packages/d0/42/d9edfed04228bacea2d824904cae367ee9efd05e6cce7ceaaedd0b0ad964/Unidecode-1.1.1-py2.py3-none-any.whl (238kB)\n",
      "\u001b[K     |████████████████████████████████| 245kB 34.4MB/s \n",
      "\u001b[?25hCollecting flaky\n",
      "  Downloading https://files.pythonhosted.org/packages/43/0e/2f50064e327f41a1eb811df089f813036e19a64b95e33f8e9e0b96c2447e/flaky-3.7.0-py2.py3-none-any.whl\n",
      "Collecting boto3\n",
      "\u001b[?25l  Downloading https://files.pythonhosted.org/packages/1d/53/c0a4b5dd73c1bf265331e73f0f62705665f0f7eb25eee41bda97b058163f/boto3-1.16.14-py2.py3-none-any.whl (129kB)\n",
      "\u001b[K     |████████████████████████████████| 133kB 49.7MB/s \n",
      "\u001b[?25hRequirement already satisfied: editdistance in /usr/local/lib/python3.6/dist-packages (from allennlp==0.9->-r requirements.txt (line 1)) (0.5.3)\n",
      "Collecting numpydoc>=0.8.0\n",
      "\u001b[?25l  Downloading https://files.pythonhosted.org/packages/60/1d/9e398c53d6ae27d5ab312ddc16a9ffe1bee0dfdf1d6ec88c40b0ca97582e/numpydoc-1.1.0-py3-none-any.whl (47kB)\n",
      "\u001b[K     |████████████████████████████████| 51kB 6.7MB/s \n",
      "\u001b[?25hRequirement already satisfied: pytest in /usr/local/lib/python3.6/dist-packages (from allennlp==0.9->-r requirements.txt (line 1)) (3.6.4)\n",
      "Requirement already satisfied: sqlparse>=0.2.4 in /usr/local/lib/python3.6/dist-packages (from allennlp==0.9->-r requirements.txt (line 1)) (0.4.1)\n",
      "Requirement already satisfied: numpy in /usr/local/lib/python3.6/dist-packages (from allennlp==0.9->-r requirements.txt (line 1)) (1.18.5)\n",
      "Collecting jsonnet>=0.10.0; sys_platform != \"win32\"\n",
      "\u001b[?25l  Downloading https://files.pythonhosted.org/packages/86/70/ed1ba808a87d896b9f4d25400dda54e089ca7a97e87cee620b3744997c89/jsonnet-0.16.0.tar.gz (256kB)\n",
      "\u001b[K     |████████████████████████████████| 266kB 47.7MB/s \n",
      "\u001b[?25hRequirement already satisfied: pytz>=2017.3 in /usr/local/lib/python3.6/dist-packages (from allennlp==0.9->-r requirements.txt (line 1)) (2018.9)\n",
      "Requirement already satisfied: murmurhash<1.1.0,>=0.28.0 in /usr/local/lib/python3.6/dist-packages (from spacy==2.1.3->-r requirements.txt (line 3)) (1.0.3)\n",
      "Collecting blis<0.3.0,>=0.2.2\n",
      "\u001b[?25l  Downloading https://files.pythonhosted.org/packages/34/46/b1d0bb71d308e820ed30316c5f0a017cb5ef5f4324bcbc7da3cf9d3b075c/blis-0.2.4-cp36-cp36m-manylinux1_x86_64.whl (3.2MB)\n",
      "\u001b[K     |████████████████████████████████| 3.2MB 40.9MB/s \n",
      "\u001b[?25hRequirement already satisfied: wasabi<1.1.0,>=0.2.0 in /usr/local/lib/python3.6/dist-packages (from spacy==2.1.3->-r requirements.txt (line 3)) (0.8.0)\n",
      "Collecting plac<1.0.0,>=0.9.6\n",
      "  Downloading https://files.pythonhosted.org/packages/9e/9b/62c60d2f5bc135d2aa1d8c8a86aaf84edb719a59c7f11a4316259e61a298/plac-0.9.6-py2.py3-none-any.whl\n",
      "Collecting preshed<2.1.0,>=2.0.1\n",
      "\u001b[?25l  Downloading https://files.pythonhosted.org/packages/20/93/f222fb957764a283203525ef20e62008675fd0a14ffff8cc1b1490147c63/preshed-2.0.1-cp36-cp36m-manylinux1_x86_64.whl (83kB)\n",
      "\u001b[K     |████████████████████████████████| 92kB 10.8MB/s \n",
      "\u001b[?25hRequirement already satisfied: jsonschema<3.0.0,>=2.6.0 in /usr/local/lib/python3.6/dist-packages (from spacy==2.1.3->-r requirements.txt (line 3)) (2.6.0)\n",
      "Requirement already satisfied: srsly<1.1.0,>=0.0.5 in /usr/local/lib/python3.6/dist-packages (from spacy==2.1.3->-r requirements.txt (line 3)) (1.0.2)\n",
      "Requirement already satisfied: cymem<2.1.0,>=2.0.2 in /usr/local/lib/python3.6/dist-packages (from spacy==2.1.3->-r requirements.txt (line 3)) (2.0.4)\n",
      "Collecting thinc<7.1.0,>=7.0.2\n",
      "\u001b[?25l  Downloading https://files.pythonhosted.org/packages/18/a5/9ace20422e7bb1bdcad31832ea85c52a09900cd4a7ce711246bfb92206ba/thinc-7.0.8-cp36-cp36m-manylinux1_x86_64.whl (2.1MB)\n",
      "\u001b[K     |████████████████████████████████| 2.1MB 45.2MB/s \n",
      "\u001b[?25hRequirement already satisfied: six in /usr/local/lib/python3.6/dist-packages (from nltk==3.4.5->-r requirements.txt (line 6)) (1.15.0)\n",
      "Requirement already satisfied: regex in /usr/local/lib/python3.6/dist-packages (from pytorch-pretrained-bert==0.6.2->-r requirements.txt (line 7)) (2019.12.20)\n",
      "Collecting sentencepiece\n",
      "\u001b[?25l  Downloading https://files.pythonhosted.org/packages/e5/2d/6d4ca4bef9a67070fa1cac508606328329152b1df10bdf31fb6e4e727894/sentencepiece-0.1.94-cp36-cp36m-manylinux2014_x86_64.whl (1.1MB)\n",
      "\u001b[K     |████████████████████████████████| 1.1MB 39.0MB/s \n",
      "\u001b[?25hRequirement already satisfied: protobuf>=3.8.0 in /usr/local/lib/python3.6/dist-packages (from tensorboardX->-r requirements.txt (line 9)) (3.12.4)\n",
      "Requirement already satisfied: idna<3,>=2.5 in /usr/local/lib/python3.6/dist-packages (from requests>=2.18->allennlp==0.9->-r requirements.txt (line 1)) (2.10)\n",
      "Requirement already satisfied: certifi>=2017.4.17 in /usr/local/lib/python3.6/dist-packages (from requests>=2.18->allennlp==0.9->-r requirements.txt (line 1)) (2020.6.20)\n",
      "Requirement already satisfied: urllib3!=1.25.0,!=1.25.1,<1.26,>=1.21.1 in /usr/local/lib/python3.6/dist-packages (from requests>=2.18->allennlp==0.9->-r requirements.txt (line 1)) (1.24.3)\n",
      "Requirement already satisfied: chardet<4,>=3.0.2 in /usr/local/lib/python3.6/dist-packages (from requests>=2.18->allennlp==0.9->-r requirements.txt (line 1)) (3.0.4)\n",
      "Requirement already satisfied: joblib>=0.11 in /usr/local/lib/python3.6/dist-packages (from scikit-learn->allennlp==0.9->-r requirements.txt (line 1)) (0.17.0)\n",
      "Requirement already satisfied: kiwisolver>=1.0.1 in /usr/local/lib/python3.6/dist-packages (from matplotlib>=2.2.3->allennlp==0.9->-r requirements.txt (line 1)) (1.3.1)\n",
      "Requirement already satisfied: pyparsing!=2.0.4,!=2.1.2,!=2.1.6,>=2.0.1 in /usr/local/lib/python3.6/dist-packages (from matplotlib>=2.2.3->allennlp==0.9->-r requirements.txt (line 1)) (2.4.7)\n",
      "Requirement already satisfied: python-dateutil>=2.1 in /usr/local/lib/python3.6/dist-packages (from matplotlib>=2.2.3->allennlp==0.9->-r requirements.txt (line 1)) (2.8.1)\n",
      "Requirement already satisfied: cycler>=0.10 in /usr/local/lib/python3.6/dist-packages (from matplotlib>=2.2.3->allennlp==0.9->-r requirements.txt (line 1)) (0.10.0)\n",
      "Requirement already satisfied: wcwidth in /usr/local/lib/python3.6/dist-packages (from ftfy->allennlp==0.9->-r requirements.txt (line 1)) (0.2.5)\n",
      "Requirement already satisfied: setuptools in /usr/local/lib/python3.6/dist-packages (from gevent>=1.3.6->allennlp==0.9->-r requirements.txt (line 1)) (50.3.2)\n",
      "Collecting greenlet>=0.4.17; platform_python_implementation == \"CPython\"\n",
      "\u001b[?25l  Downloading https://files.pythonhosted.org/packages/80/d0/532e160c777b42f6f393f9de8c88abb8af6c892037c55e4d3a8a211324dd/greenlet-0.4.17-cp36-cp36m-manylinux1_x86_64.whl (44kB)\n",
      "\u001b[K     |████████████████████████████████| 51kB 6.1MB/s \n",
      "\u001b[?25hCollecting zope.event\n",
      "  Downloading https://files.pythonhosted.org/packages/9e/85/b45408c64f3b888976f1d5b37eed8d746b8d5729a66a49ec846fda27d371/zope.event-4.5.0-py2.py3-none-any.whl\n",
      "Collecting zope.interface\n",
      "\u001b[?25l  Downloading https://files.pythonhosted.org/packages/82/b0/da8afd9b3bd50c7665ecdac062f182982af1173c9081f9af7261091c5588/zope.interface-5.2.0-cp36-cp36m-manylinux2010_x86_64.whl (236kB)\n",
      "\u001b[K     |████████████████████████████████| 245kB 48.5MB/s \n",
      "\u001b[?25hRequirement already satisfied: importlib-metadata in /usr/local/lib/python3.6/dist-packages (from jsonpickle->allennlp==0.9->-r requirements.txt (line 1)) (2.0.0)\n",
      "Requirement already satisfied: click>=5.1 in /usr/local/lib/python3.6/dist-packages (from flask>=1.0.2->allennlp==0.9->-r requirements.txt (line 1)) (7.1.2)\n",
      "Requirement already satisfied: Werkzeug>=0.15 in /usr/local/lib/python3.6/dist-packages (from flask>=1.0.2->allennlp==0.9->-r requirements.txt (line 1)) (1.0.1)\n",
      "Requirement already satisfied: Jinja2>=2.10.1 in /usr/local/lib/python3.6/dist-packages (from flask>=1.0.2->allennlp==0.9->-r requirements.txt (line 1)) (2.11.2)\n",
      "Requirement already satisfied: itsdangerous>=0.24 in /usr/local/lib/python3.6/dist-packages (from flask>=1.0.2->allennlp==0.9->-r requirements.txt (line 1)) (1.1.0)\n",
      "Collecting botocore<1.20.0,>=1.19.14\n",
      "\u001b[?25l  Downloading https://files.pythonhosted.org/packages/f0/6a/466d8644e61192e2b36db2aca2ebca952ad527220f9776b87e94de1a172d/botocore-1.19.14-py2.py3-none-any.whl (6.7MB)\n",
      "\u001b[K     |████████████████████████████████| 6.7MB 11.0MB/s \n",
      "\u001b[?25hCollecting jmespath<1.0.0,>=0.7.1\n",
      "  Downloading https://files.pythonhosted.org/packages/07/cb/5f001272b6faeb23c1c9e0acc04d48eaaf5c862c17709d20e3469c6e0139/jmespath-0.10.0-py2.py3-none-any.whl\n",
      "Collecting s3transfer<0.4.0,>=0.3.0\n",
      "\u001b[?25l  Downloading https://files.pythonhosted.org/packages/69/79/e6afb3d8b0b4e96cefbdc690f741d7dd24547ff1f94240c997a26fa908d3/s3transfer-0.3.3-py2.py3-none-any.whl (69kB)\n",
      "\u001b[K     |████████████████████████████████| 71kB 8.6MB/s \n",
      "\u001b[?25hRequirement already satisfied: sphinx>=1.6.5 in /usr/local/lib/python3.6/dist-packages (from numpydoc>=0.8.0->allennlp==0.9->-r requirements.txt (line 1)) (1.8.5)\n",
      "Requirement already satisfied: pluggy<0.8,>=0.5 in /usr/local/lib/python3.6/dist-packages (from pytest->allennlp==0.9->-r requirements.txt (line 1)) (0.7.1)\n",
      "Requirement already satisfied: atomicwrites>=1.0 in /usr/local/lib/python3.6/dist-packages (from pytest->allennlp==0.9->-r requirements.txt (line 1)) (1.4.0)\n",
      "Requirement already satisfied: attrs>=17.4.0 in /usr/local/lib/python3.6/dist-packages (from pytest->allennlp==0.9->-r requirements.txt (line 1)) (20.2.0)\n",
      "Requirement already satisfied: py>=1.5.0 in /usr/local/lib/python3.6/dist-packages (from pytest->allennlp==0.9->-r requirements.txt (line 1)) (1.9.0)\n",
      "Requirement already satisfied: more-itertools>=4.0.0 in /usr/local/lib/python3.6/dist-packages (from pytest->allennlp==0.9->-r requirements.txt (line 1)) (8.6.0)\n",
      "Requirement already satisfied: zipp>=0.5 in /usr/local/lib/python3.6/dist-packages (from importlib-metadata->jsonpickle->allennlp==0.9->-r requirements.txt (line 1)) (3.4.0)\n",
      "Requirement already satisfied: MarkupSafe>=0.23 in /usr/local/lib/python3.6/dist-packages (from Jinja2>=2.10.1->flask>=1.0.2->allennlp==0.9->-r requirements.txt (line 1)) (1.1.1)\n",
      "Requirement already satisfied: Pygments>=2.0 in /usr/local/lib/python3.6/dist-packages (from sphinx>=1.6.5->numpydoc>=0.8.0->allennlp==0.9->-r requirements.txt (line 1)) (2.6.1)\n",
      "Requirement already satisfied: snowballstemmer>=1.1 in /usr/local/lib/python3.6/dist-packages (from sphinx>=1.6.5->numpydoc>=0.8.0->allennlp==0.9->-r requirements.txt (line 1)) (2.0.0)\n",
      "Requirement already satisfied: sphinxcontrib-websupport in /usr/local/lib/python3.6/dist-packages (from sphinx>=1.6.5->numpydoc>=0.8.0->allennlp==0.9->-r requirements.txt (line 1)) (1.2.4)\n",
      "Requirement already satisfied: imagesize in /usr/local/lib/python3.6/dist-packages (from sphinx>=1.6.5->numpydoc>=0.8.0->allennlp==0.9->-r requirements.txt (line 1)) (1.2.0)\n",
      "Requirement already satisfied: packaging in /usr/local/lib/python3.6/dist-packages (from sphinx>=1.6.5->numpydoc>=0.8.0->allennlp==0.9->-r requirements.txt (line 1)) (20.4)\n",
      "Requirement already satisfied: alabaster<0.8,>=0.7 in /usr/local/lib/python3.6/dist-packages (from sphinx>=1.6.5->numpydoc>=0.8.0->allennlp==0.9->-r requirements.txt (line 1)) (0.7.12)\n",
      "Requirement already satisfied: docutils>=0.11 in /usr/local/lib/python3.6/dist-packages (from sphinx>=1.6.5->numpydoc>=0.8.0->allennlp==0.9->-r requirements.txt (line 1)) (0.16)\n",
      "Requirement already satisfied: babel!=2.0,>=1.3 in /usr/local/lib/python3.6/dist-packages (from sphinx>=1.6.5->numpydoc>=0.8.0->allennlp==0.9->-r requirements.txt (line 1)) (2.8.0)\n",
      "Requirement already satisfied: sphinxcontrib-serializinghtml in /usr/local/lib/python3.6/dist-packages (from sphinxcontrib-websupport->sphinx>=1.6.5->numpydoc>=0.8.0->allennlp==0.9->-r requirements.txt (line 1)) (1.1.4)\n",
      "Building wheels for collected packages: spacy-wordnet, nltk, overrides, parsimonious, ftfy, word2number, jsonnet\n",
      "  Building wheel for spacy-wordnet (setup.py) ... \u001b[?25l\u001b[?25hdone\n",
      "  Created wheel for spacy-wordnet: filename=spacy_wordnet-0.0.4-py2.py3-none-any.whl size=650293 sha256=6d48afa6bddfc5a5aaa93c553b91ca724757fe075589a78033efc854b8699504\n",
      "  Stored in directory: /root/.cache/pip/wheels/25/93/1d/c86db913cd146fc9ddb26d10f56579c5d58a3e00bc8f96a3a6\n",
      "  Building wheel for nltk (setup.py) ... \u001b[?25l\u001b[?25hdone\n",
      "  Created wheel for nltk: filename=nltk-3.4.5-cp36-none-any.whl size=1449904 sha256=f91ce93d15bb5529657c30d19d1908f023eb713a4902e402c0c45b44fc67f7d1\n",
      "  Stored in directory: /root/.cache/pip/wheels/96/86/f6/68ab24c23f207c0077381a5e3904b2815136b879538a24b483\n",
      "  Building wheel for overrides (setup.py) ... \u001b[?25l\u001b[?25hdone\n",
      "  Created wheel for overrides: filename=overrides-3.1.0-cp36-none-any.whl size=10174 sha256=c418ed28c0badfe1851562076737fcab8038e2320ec4ecf5fea79a1b99f24aac\n",
      "  Stored in directory: /root/.cache/pip/wheels/5c/24/13/6ef8600e6f147c95e595f1289a86a3cc82ed65df57582c65a9\n",
      "  Building wheel for parsimonious (setup.py) ... \u001b[?25l\u001b[?25hdone\n",
      "  Created wheel for parsimonious: filename=parsimonious-0.8.1-cp36-none-any.whl size=42709 sha256=9de51d77c242d28e046541d952cc568885f90190511724bc3a8256c5f5bf5372\n",
      "  Stored in directory: /root/.cache/pip/wheels/b7/8d/e7/a0e74217da5caeb3c1c7689639b6d28ddbf9985b840bc96a9a\n",
      "  Building wheel for ftfy (setup.py) ... \u001b[?25l\u001b[?25hdone\n",
      "  Created wheel for ftfy: filename=ftfy-5.8-cp36-none-any.whl size=45612 sha256=f14d022494e2e1704742ef54e1241ae30e22b8ea63aca263f5e41a450707afa5\n",
      "  Stored in directory: /root/.cache/pip/wheels/ba/c0/ef/f28c4da5ac84a4e06ac256ca9182fc34fa57fefffdbc68425b\n",
      "  Building wheel for word2number (setup.py) ... \u001b[?25l\u001b[?25hdone\n",
      "  Created wheel for word2number: filename=word2number-1.1-cp36-none-any.whl size=5588 sha256=b383dc6745d5a3e2b846e29010a2ccaa17584bf18972d7c9b072136fc65273c0\n",
      "  Stored in directory: /root/.cache/pip/wheels/46/2f/53/5f5c1d275492f2fce1cdab9a9bb12d49286dead829a4078e0e\n",
      "  Building wheel for jsonnet (setup.py) ... \u001b[?25l\u001b[?25hdone\n",
      "  Created wheel for jsonnet: filename=jsonnet-0.16.0-cp36-cp36m-linux_x86_64.whl size=3321567 sha256=fed37bfa35dca260cfc5fe2071ee55367354b4691a7c7d4d4c3583f55919645a\n",
      "  Stored in directory: /root/.cache/pip/wheels/64/a9/43/bc5e0463deeec89dfca928a2a64595f1bdb520c891f6fbd09c\n",
      "Successfully built spacy-wordnet nltk overrides parsimonious ftfy word2number jsonnet\n",
      "\u001b[31mERROR: torchvision 0.8.1+cu101 has requirement torch==1.7.0, but you'll have torch 1.2.0 which is incompatible.\u001b[0m\n",
      "\u001b[31mERROR: en-core-web-sm 2.2.5 has requirement spacy>=2.2.2, but you'll have spacy 2.1.3 which is incompatible.\u001b[0m\n",
      "\u001b[31mERROR: responses 0.12.0 has requirement urllib3>=1.25.10, but you'll have urllib3 1.24.3 which is incompatible.\u001b[0m\n",
      "\u001b[31mERROR: botocore 1.19.14 has requirement urllib3<1.26,>=1.25.4; python_version != \"3.4\", but you'll have urllib3 1.24.3 which is incompatible.\u001b[0m\n",
      "\u001b[31mERROR: spacy-wordnet 0.0.4 has requirement nltk<3.4,>=3.3, but you'll have nltk 3.4.5 which is incompatible.\u001b[0m\n",
      "Installing collected packages: overrides, responses, parsimonious, nltk, ftfy, greenlet, zope.event, zope.interface, gevent, torch, jmespath, botocore, s3transfer, boto3, pytorch-pretrained-bert, flask-cors, jsonpickle, word2number, conllu, unidecode, flaky, numpydoc, tensorboardX, jsonnet, sentencepiece, pytorch-transformers, blis, plac, preshed, thinc, spacy, allennlp, neuralcoref, spacy-wordnet, jsonlines, ujson\n",
      "  Found existing installation: nltk 3.2.5\n",
      "    Uninstalling nltk-3.2.5:\n",
      "      Successfully uninstalled nltk-3.2.5\n",
      "  Found existing installation: torch 1.7.0+cu101\n",
      "    Uninstalling torch-1.7.0+cu101:\n",
      "      Successfully uninstalled torch-1.7.0+cu101\n",
      "  Found existing installation: blis 0.4.1\n",
      "    Uninstalling blis-0.4.1:\n",
      "      Successfully uninstalled blis-0.4.1\n",
      "  Found existing installation: plac 1.1.3\n",
      "    Uninstalling plac-1.1.3:\n",
      "      Successfully uninstalled plac-1.1.3\n",
      "  Found existing installation: preshed 3.0.2\n",
      "    Uninstalling preshed-3.0.2:\n",
      "      Successfully uninstalled preshed-3.0.2\n",
      "  Found existing installation: thinc 7.4.0\n",
      "    Uninstalling thinc-7.4.0:\n",
      "      Successfully uninstalled thinc-7.4.0\n",
      "  Found existing installation: spacy 2.2.4\n",
      "    Uninstalling spacy-2.2.4:\n",
      "      Successfully uninstalled spacy-2.2.4\n",
      "Successfully installed allennlp-0.9.0 blis-0.2.4 boto3-1.16.14 botocore-1.19.14 conllu-1.3.1 flaky-3.7.0 flask-cors-3.0.9 ftfy-5.8 gevent-20.9.0 greenlet-0.4.17 jmespath-0.10.0 jsonlines-1.2.0 jsonnet-0.16.0 jsonpickle-1.4.1 neuralcoref-4.0 nltk-3.4.5 numpydoc-1.1.0 overrides-3.1.0 parsimonious-0.8.1 plac-0.9.6 preshed-2.0.1 pytorch-pretrained-bert-0.6.2 pytorch-transformers-1.1.0 responses-0.12.0 s3transfer-0.3.3 sentencepiece-0.1.94 spacy-2.1.3 spacy-wordnet-0.0.4 tensorboardX-2.1 thinc-7.0.8 torch-1.2.0 ujson-4.0.1 unidecode-1.1.1 word2number-1.1 zope.event-4.5.0 zope.interface-5.2.0\n"
     ]
    }
   ],
   "source": [
    "!pip install -r requirements.txt"
   ]
  },
  {
   "cell_type": "markdown",
   "metadata": {
    "id": "DVIPyvawWNhl"
   },
   "source": [
    "# **Data Generation for pre-training/ finetuning on BERT** \n",
    "*Note:* Below 3 steps take a lot of time. So skip these three steps as synthetic data is already available in ./data folder  "
   ]
  },
  {
   "cell_type": "markdown",
   "metadata": {
    "id": "GwECFdAIXvdU"
   },
   "source": [
    "**Step 1 - Masked LM Task (MLM) :** Tokenize and mask Wiki pages"
   ]
  },
  {
   "cell_type": "code",
   "execution_count": null,
   "metadata": {
    "colab": {
     "base_uri": "https://localhost:8080/"
    },
    "id": "lkSGoNbiOtgp",
    "outputId": "4f870625-61e2-4f4e-e61e-9569b4fc204e"
   },
   "outputs": [
    {
     "name": "stdout",
     "output_type": "stream",
     "text": [
      "100% 231508/231508 [00:00<00:00, 4443190.86B/s]\n",
      "384513it [00:18, 20619.17it/s]\n",
      " 85% 325230/384513 [42:04<07:27, 132.40it/s]^C\n"
     ]
    }
   ],
   "source": [
    "!python gen_train_data_MLM.py --train_corpus ./data/MLM_paras.jsonl --bert_model bert-base-uncased --output_dir ./data/MLM_train/ --do_lower_case --max_predictions_per_seq 65 --digitize"
   ]
  },
  {
   "cell_type": "markdown",
   "metadata": {
    "id": "yYaP-9OjV56T"
   },
   "source": [
    "**Step 2 - Numeric Data (ND) :** Generate numeric data and convert to DROP format"
   ]
  },
  {
   "cell_type": "code",
   "execution_count": null,
   "metadata": {
    "colab": {
     "base_uri": "https://localhost:8080/"
    },
    "id": "pDAXNtN2Sqqz",
    "outputId": "89a96935-acee-4d29-b918-b23fd9243dcc"
   },
   "outputs": [
    {
     "name": "stdout",
     "output_type": "stream",
     "text": [
      "[Errno 2] No such file or directory: 'numeric_data_generation/ # navigate to numeric_data_generation folder'\n",
      "/content/injecting_numeracy/pre_training\n",
      "python3: can't open file 'gen_numeric_data.py': [Errno 2] No such file or directory\n",
      "[Errno 2] No such file or directory: '.. # navigate back to pre-training folder'\n",
      "/content/injecting_numeracy/pre_training\n",
      "INFO:pytorch_pretrained_bert.tokenization:loading vocabulary file https://s3.amazonaws.com/models.huggingface.co/bert/bert-base-uncased-vocab.txt from cache at /root/.pytorch_pretrained_bert/26bc1ad6c0ac742e9b52263248f6d0f00068293b33709fae12320c0e35ccfbbb.542ce4285a40d23a559526243235df47c5f75c197f04f37d1a0c124c32c9a084\n",
      "INFO:__main__:Reading ./data/synthetic_numeric.jsonl\n",
      "INFO:__main__:Converting...\n",
      "INFO:__main__:Saving ./data/synthetic_numeric_train_drop_format.json\n",
      "INFO:__main__:Saving ./data/synthetic_numeric_dev_drop_format.json\n"
     ]
    }
   ],
   "source": [
    "%cd numeric_data_generation/       # navigate to numeric_data_generation folder\n",
    "\n",
    "!python gen_numeric_data.py --num_samples 1e6 --num_dev_samples 1e4 --output_jsonl ../data/synthetic_numeric.jsonl  # generate numeric data\n",
    "\n",
    "%cd ..                            # navigate back to pre-training folder\n",
    "\n",
    "!python convert_synthetic_numeric_to_drop.py --data_jsonl ./data/synthetic_numeric.jsonl # convert numeric data to DROP format\n"
   ]
  },
  {
   "cell_type": "markdown",
   "metadata": {
    "id": "sNNED8X3aZju"
   },
   "source": [
    "**Step 3 - Textual Data (TD) :** Convert textual data to DROP format."
   ]
  },
  {
   "cell_type": "code",
   "execution_count": null,
   "metadata": {
    "colab": {
     "base_uri": "https://localhost:8080/"
    },
    "id": "F3o6TNuFZOSo",
    "outputId": "b2527241-da1a-4086-bbf2-9a188ad7233c"
   },
   "outputs": [
    {
     "name": "stdout",
     "output_type": "stream",
     "text": [
      "INFO:__main__:Reading ./data/synthetic_textual_mixed_min3_max6_up0.7_train.json\n",
      "tcmalloc: large alloc 3945979904 bytes == 0x78608000 @  0x7fb6363b21e7 0x5ac31b 0x7fb6341d3704 0x7fb6341d3417 0x7fb6341d4351 0x7fb6341d13fa 0x7fb6341d1554 0x50a4a5 0x50beb4 0x5095c8 0x50a2fd 0x50beb4 0x507be4 0x50ad03 0x634e72 0x634f27 0x6386df 0x639281 0x4b0dc0 0x7fb635fafbf7 0x5b259a\n",
      "INFO:__main__:Converting...\n",
      "INFO:__main__:Saving ./data/synthetic_textual_mixed_min3_max6_up0.7_train_drop_format.json\n",
      "INFO:__main__:Reading ./data/synthetic_textual_mixed_min3_max6_up0.7_dev.json\n",
      "INFO:__main__:Converting...\n",
      "INFO:__main__:Saving ./data/synthetic_textual_mixed_min3_max6_up0.7_dev_drop_format.json\n"
     ]
    }
   ],
   "source": [
    "!python convert_synthetic_texual_to_drop.py --data_json ./data/synthetic_textual_mixed_min3_max6_up0.7_train.json\n",
    "!python convert_synthetic_texual_to_drop.py --data_json ./data/synthetic_textual_mixed_min3_max6_up0.7_dev.json"
   ]
  },
  {
   "cell_type": "markdown",
   "metadata": {
    "id": "fJjKba2Xc4LM"
   },
   "source": [
    "# **Pre-training / Finetuning models on DROP-like datasets**"
   ]
  },
  {
   "cell_type": "code",
   "execution_count": null,
   "metadata": {
    "colab": {
     "base_uri": "https://localhost:8080/"
    },
    "id": "f6dgOxOOcNYW",
    "outputId": "2f5a560e-0819-42d3-f718-cf4834b2766c"
   },
   "outputs": [
    {
     "name": "stdout",
     "output_type": "stream",
     "text": [
      "[Errno 2] No such file or directory: 'gen_bert/ # navigate to gen_bert folder'\n",
      "/content/injecting_numeracy/pre_training\n"
     ]
    }
   ],
   "source": [
    "%cd gen_bert/ # navigate to gen_bert folder"
   ]
  },
  {
   "cell_type": "markdown",
   "metadata": {
    "id": "FvT9KAEUm3g3"
   },
   "source": [
    "**Step 1:** Creating features from DROP-like datasets"
   ]
  },
  {
   "cell_type": "code",
   "execution_count": null,
   "metadata": {
    "colab": {
     "base_uri": "https://localhost:8080/"
    },
    "id": "3DG3x4xNf17p",
    "outputId": "6bf17325-20a7-41d9-dce4-f3d245784e85"
   },
   "outputs": [
    {
     "name": "stdout",
     "output_type": "stream",
     "text": [
      "python3: can't open file 'create_examples_n_features.py': [Errno 2] No such file or directory\n",
      "python3: can't open file 'create_examples_n_features.py': [Errno 2] No such file or directory\n"
     ]
    }
   ],
   "source": [
    "# DROP\n",
    "!python create_examples_n_features.py --split train --drop_json ../data/drop_dataset_train.json --output_dir data/examples_n_features --max_seq_length 512\n",
    "!python create_examples_n_features.py --split eval --drop_json ../data/drop_dataset_dev.json --output_dir data/examples_n_features --max_seq_length 512"
   ]
  },
  {
   "cell_type": "code",
   "execution_count": null,
   "metadata": {
    "id": "N-eRpxpPm1Lp"
   },
   "outputs": [],
   "source": [
    "# numeric data\n",
    "!python create_examples_n_features.py --split train --drop_json ../data/synthetic_numeric_train_drop_format.json --output_dir data/examples_n_features_numeric --max_seq_length 50 --max_decoding_steps 11 --max_n_samples -1\n",
    "!python create_examples_n_features.py --split eval --drop_json ../data/synthetic_numeric_dev_drop_format.json --output_dir data/examples_n_features_numeric --max_seq_length 50 --max_decoding_steps 11\n",
    "\n",
    "# textual synthetic data\n",
    "!python create_examples_n_features.py --split train --drop_json ../data/synthetic_textual_mixed_min3_max6_up0.7_train_drop_format.json --output_dir data/examples_n_features_syntext --max_seq_length 160 --max_n_samples -1\n",
    "!python create_examples_n_features.py --split eval --drop_json ../data/synthetic_textual_mixed_min3_max6_up0.7_dev_drop_format.json --output_dir data/examples_n_features_syntext --max_seq_length 160"
   ]
  },
  {
   "cell_type": "markdown",
   "metadata": {
    "id": "kGWlgBVJoxUs"
   },
   "source": [
    "**Step 2:** Pre-training and finetuning"
   ]
  },
  {
   "cell_type": "markdown",
   "metadata": {
    "id": "T_eZiiP5qiqr"
   },
   "source": [
    "**PRE-TRAINING:**\n",
    "\n",
    "GenBERT + ND"
   ]
  },
  {
   "cell_type": "code",
   "execution_count": null,
   "metadata": {
    "colab": {
     "base_uri": "https://localhost:8080/"
    },
    "id": "FRCZJhBNqwyv",
    "outputId": "815aa493-5fb9-43ce-f251-934fd33e248f"
   },
   "outputs": [
    {
     "name": "stdout",
     "output_type": "stream",
     "text": [
      "python3: can't open file 'finetune_on_drop.py': [Errno 2] No such file or directory\n"
     ]
    }
   ],
   "source": [
    "!CUDA_VISIBLE_DEVICES=0,1,2,3,4,5,6,7 python finetune_on_drop.py  --do_train   --do_eval  --mlm_dir ../data/MLM_train/ --examples_n_features_dir ./data/examples_n_features_numeric/ --train_batch_size 800 --mlm_batch_size 48 --mlm_scale 0.5 --eval_batch_size 1200 --learning_rate 6e-5  --max_seq_length 50 --num_train_epochs 60.0 --warmup_proportion 0.1 --output_dir out_numeric_finetune_bert --random_shift --num_train_samples -1"
   ]
  },
  {
   "cell_type": "markdown",
   "metadata": {
    "id": "_uwftqMiq-SL"
   },
   "source": [
    "GenBERT + TD"
   ]
  },
  {
   "cell_type": "code",
   "execution_count": null,
   "metadata": {
    "id": "LL_LS5UCq3XB"
   },
   "outputs": [],
   "source": [
    "!CUDA_VISIBLE_DEVICES=0,1,2,3,4,5,6,7 python finetune_on_drop.py   --do_train   --do_eval  --mlm_dir ../data/MLM_train/ --examples_n_features_dir ./data/examples_n_features_syntext/ --train_batch_size 240 --mlm_batch_size 48 --mlm_scale 0.5 --eval_batch_size 1000 --learning_rate 1e-5  --max_seq_length 160 --num_train_epochs 5.0 --warmup_proportion 0.1 --output_dir out_syntext_finetune_bert --random_shift --num_train_samples -1"
   ]
  },
  {
   "cell_type": "markdown",
   "metadata": {
    "id": "jGR0bI_ErIUx"
   },
   "source": [
    "GenBERT + ND + TD"
   ]
  },
  {
   "cell_type": "code",
   "execution_count": null,
   "metadata": {
    "id": "Qx_pyJ8VrDUu"
   },
   "outputs": [],
   "source": [
    "!CUDA_VISIBLE_DEVICES=0,1,2,3,4,5,6,7 python train_textual_with_numeric.py  --do_train   --do_eval --mlm_dir ../data/MLM_train/ --examples_n_features_dir_syntext ./data/examples_n_features_syntext/ --examples_n_features_dir_numeric ./data/examples_n_features_numeric/ --train_batch_size_syntext 240 --train_batch_size_numeric 624 --mlm_batch_size 48 --mlm_scale 0.5 --eval_batch_size 1000 --learning_rate 1e-5 --num_train_epochs 5.0 --warmup_proportion 0.1 --output_dir out_syntext_and_numeric_finetune_numeric --init_weights_dir out_numeric_finetune_bert --random_shift --num_train_samples -1"
   ]
  },
  {
   "cell_type": "markdown",
   "metadata": {
    "id": "i9bvm-pQqR0u"
   },
   "source": [
    "**FINETUNING:**\n",
    "\n",
    "GenBERT + DROP"
   ]
  },
  {
   "cell_type": "code",
   "execution_count": null,
   "metadata": {
    "id": "1K5ktVP1nIHV"
   },
   "outputs": [],
   "source": [
    "!CUDA_VISIBLE_DEVICES=0,1,2,3 python finetune_on_drop.py   --do_train   --do_eval  --examples_n_features_dir ./data/examples_n_features/ --train_batch_size 16 --mlm_batch_size -1 --eval_batch_size 360 --learning_rate 3e-5  --max_seq_length 512 --num_train_epochs 30.0 --warmup_proportion 0.1 --output_dir out_drop_finetune_bert --num_train_samples -1"
   ]
  },
  {
   "cell_type": "markdown",
   "metadata": {
    "id": "5_s414PIqKmP"
   },
   "source": [
    "GenBERT + ND + DROP"
   ]
  },
  {
   "cell_type": "code",
   "execution_count": null,
   "metadata": {
    "id": "DJwAfpWLqAQ8"
   },
   "outputs": [],
   "source": [
    "!CUDA_VISIBLE_DEVICES=0,1,2,3 python finetune_on_drop.py   --do_train   --do_eval  --examples_n_features_dir ./data/examples_n_features/ --train_batch_size 16 --mlm_batch_size -1 --eval_batch_size 360 --learning_rate 3e-5  --max_seq_length 512 --num_train_epochs 30.0 --warmup_proportion 0.1 --init_weights_dir out_numeric_finetune_bert --output_dir out_drop_finetune_numeric --num_train_samples -1"
   ]
  },
  {
   "cell_type": "markdown",
   "metadata": {
    "id": "YBrMGFGBsGPN"
   },
   "source": [
    "GenBERT + TD + DROP"
   ]
  },
  {
   "cell_type": "code",
   "execution_count": null,
   "metadata": {
    "id": "w5lB4Kuir9ts"
   },
   "outputs": [],
   "source": [
    "!CUDA_VISIBLE_DEVICES=0,1,2,3 python finetune_on_drop.py   --do_train   --do_eval  --examples_n_features_dir ./data/examples_n_features/ --train_batch_size 14 --mlm_batch_size -1 --eval_batch_size 400 --learning_rate 3e-5  --max_seq_length 512 --num_train_epochs 30.0 --warmup_proportion 0.1 --init_weights_dir out_syntext_finetune_bert --output_dir out_drop_finetune_syntext --num_train_samples -1"
   ]
  },
  {
   "cell_type": "markdown",
   "metadata": {
    "id": "z-Jb4a5srclu"
   },
   "source": [
    "GenBERT + ND + TD + DROP"
   ]
  },
  {
   "cell_type": "code",
   "execution_count": null,
   "metadata": {
    "id": "OOQ4xYV6rYUa"
   },
   "outputs": [],
   "source": [
    "!CUDA_VISIBLE_DEVICES=0,1,2,3 python finetune_on_drop.py   --do_train   --do_eval  --examples_n_features_dir ./data/examples_n_features/ --train_batch_size 14 --mlm_batch_size -1 --eval_batch_size 400 --learning_rate 3e-5  --max_seq_length 512 --num_train_epochs 30.0 --warmup_proportion 0.1 --init_weights_dir out_syntext_and_numeric_finetune_numeric --output_dir out_drop_finetune_syntext_and_numeric --num_train_samples -1"
   ]
  },
  {
   "cell_type": "markdown",
   "metadata": {
    "id": "La5_0xhSs-6C"
   },
   "source": [
    "**Step 3:** Inference"
   ]
  },
  {
   "cell_type": "code",
   "execution_count": null,
   "metadata": {
    "id": "HnPpk_dys7GE"
   },
   "outputs": [],
   "source": [
    "!CUDA_VISIBLE_DEVICES=0,1,2,3 python finetune_on_drop.py --do_eval --do_inference --examples_n_features_dir ./data/examples_n_features/ --eval_batch_size 800 --init_weights_dir out_drop_finetuned_model  --output_dir preds"
   ]
  },
  {
   "cell_type": "markdown",
   "metadata": {
    "id": "MjuEeWZAK5OC"
   },
   "source": [
    "**Step 4:** Evaluation"
   ]
  },
  {
   "cell_type": "code",
   "execution_count": null,
   "metadata": {
    "id": "eprQo_LttPRv"
   },
   "outputs": [],
   "source": [
    "!python drop_eval.py --gold_path ../data/drop_dataset_dev.json --prediction_path ./preds/predictions.jsonl --answer_key prediction"
   ]
  },
  {
   "cell_type": "markdown",
   "metadata": {
    "id": "zERwa6NSLKgo"
   },
   "source": [
    "**Step 5:** SQuAD Finetuning"
   ]
  },
  {
   "cell_type": "code",
   "execution_count": null,
   "metadata": {
    "colab": {
     "background_save": true
    },
    "id": "v5_Udrs4LI-_"
   },
   "outputs": [],
   "source": [
    "%cd squad_finetuning\n",
    "\n",
    "!bash download.sh"
   ]
  },
  {
   "cell_type": "code",
   "execution_count": null,
   "metadata": {
    "id": "mkYQ8NhnZHBV"
   },
   "outputs": [],
   "source": [
    "# training\n",
    "!CUDA_VISIBLE_DEVICES=0 python run_squad.py  --bert_model bert-base-uncased  --do_train  --do_predict --do_lower_case --train_file data/train-v1.1.json   --predict_file data/dev-v1.1.json   --train_batch_size 13   --predict_batch_size 256   --learning_rate 3e-5   --num_train_epochs 3.0   --max_seq_length 384   --doc_stride 128   --overwrite_output_dir   --output_dir out_squad_bert_orig   --n_best_size 10   --eval_period 800  --load_from_cache --use_segment_ids --num_train_samples -1"
   ]
  },
  {
   "cell_type": "code",
   "execution_count": null,
   "metadata": {
    "id": "-YnpPbHIY3ha"
   },
   "outputs": [],
   "source": [
    "# inference\n",
    "!CUDA_VISIBLE_DEVICES=0 python run_squad.py  --bert_model out_squad_bert_orig --do_evaluate --do_predict --do_lower_case --predict_file data/dev-v1.1.json  --predict_batch_size 256   --max_seq_length 384   --doc_stride 128  --use_segment_ids  --output_dir out_squad_bert_orig  --n_best_size 10"
   ]
  },
  {
   "cell_type": "code",
   "execution_count": null,
   "metadata": {
    "id": "EN8SmLnlY6b1"
   },
   "outputs": [],
   "source": [
    "# training\n",
    "!CUDA_VISIBLE_DEVICES=0 python run_squad.py  --bert_model ../out_pre_training  --do_train  --do_predict --do_lower_case --train_file data/train-v1.1.json   --predict_file data/dev-v1.1.json   --train_batch_size 13   --predict_batch_size 256   --learning_rate 3e-5   --num_train_epochs 3.0   --max_seq_length 384   --doc_stride 128   --overwrite_output_dir  --indiv_digits  --output_dir out_squad_pre_training  --n_best_size 10   --eval_period 800  --load_from_cache --num_train_samples -1"
   ]
  },
  {
   "cell_type": "code",
   "execution_count": null,
   "metadata": {
    "id": "PW_0NhpyZAYu"
   },
   "outputs": [],
   "source": [
    "# inference\n",
    "!CUDA_VISIBLE_DEVICES=0 python run_squad.py  --bert_model out_squad_pre_training --do_evaluate --do_predict --do_lower_case --predict_file data/dev-v1.1.json  --predict_batch_size 256   --max_seq_length 384   --doc_stride 128  --indiv_digits  --output_dir out_squad_pre_training   --n_best_size 10\n"
   ]
  },
  {
   "cell_type": "code",
   "execution_count": null,
   "metadata": {
    "id": "IEKGKL19ZDmm"
   },
   "outputs": [],
   "source": [
    "# evaluation\n",
    "!python evaluate-v1.1.py --dataset_file data/dev-v1.1.json --prediction_file out_squad_pre_training/predictions.json"
   ]
  },
  {
   "cell_type": "markdown",
   "metadata": {
    "id": "-N-fgY2TY82d"
   },
   "source": []
  }
 ],
 "metadata": {
  "colab": {
   "include_colab_link": true,
   "name": "NLPProject.ipynb",
   "provenance": [],
   "toc_visible": true
  },
  "kernelspec": {
   "display_name": "Python 3",
   "language": "python",
   "name": "python3"
  },
  "language_info": {
   "codemirror_mode": {
    "name": "ipython",
    "version": 3
   },
   "file_extension": ".py",
   "mimetype": "text/x-python",
   "name": "python",
   "nbconvert_exporter": "python",
   "pygments_lexer": "ipython3",
   "version": "3.7.6"
  }
 },
 "nbformat": 4,
 "nbformat_minor": 1
}
