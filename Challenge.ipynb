{
 "cells": [
  {
   "cell_type": "code",
   "execution_count": 1,
   "metadata": {},
   "outputs": [],
   "source": [
    "import json\n",
    "import pprint\n",
    "import pandas as pd\n",
    "from sklearn.utils import shuffle\n",
    "import urllib.request\n",
    "import json\n",
    "import hashlib\n",
    "\n",
    "def write_df_to_json(df, filename, columnList):\n",
    "    df = shuffle(df)\n",
    "    with open(filename, \"w\") as f:\n",
    "        for index, row in df.iterrows():\n",
    "            obj = {}\n",
    "            for column in columnList:\n",
    "                obj[column] = row[column]\n",
    "                \n",
    "            f.write(json.dumps(obj))\n",
    "            f.write(\"\\n\")\n",
    "    \n",
    "total_questions_hashed = 0\n",
    "def get_ids_for_range(start, count):\n",
    "    Ids = []\n",
    "    questions_hashed = 0\n",
    "    for i in range(start, start + count ):\n",
    "        hash_object = hashlib.md5(str(i).encode())\n",
    "        Ids.append(hash_object.hexdigest())\n",
    "        questions_hashed += 1\n",
    "    return Ids, questions_hashed\n",
    "\n",
    "def convert_int_answer_to_int(x):\n",
    "    x = str(x)\n",
    "    if(x[-2:] == \".0\"):\n",
    "        return x[:-2]\n",
    "    else:\n",
    "        return x\n"
   ]
  },
  {
   "cell_type": "markdown",
   "metadata": {},
   "source": [
    "# Add sub"
   ]
  },
  {
   "cell_type": "code",
   "execution_count": 2,
   "metadata": {},
   "outputs": [
    {
     "name": "stdout",
     "output_type": "stream",
     "text": [
      "(392, 4)\n"
     ]
    },
    {
     "data": {
      "text/html": [
       "<div>\n",
       "<style scoped>\n",
       "    .dataframe tbody tr th:only-of-type {\n",
       "        vertical-align: middle;\n",
       "    }\n",
       "\n",
       "    .dataframe tbody tr th {\n",
       "        vertical-align: top;\n",
       "    }\n",
       "\n",
       "    .dataframe thead th {\n",
       "        text-align: right;\n",
       "    }\n",
       "</style>\n",
       "<table border=\"1\" class=\"dataframe\">\n",
       "  <thead>\n",
       "    <tr style=\"text-align: right;\">\n",
       "      <th></th>\n",
       "      <th>Question</th>\n",
       "      <th>Answer</th>\n",
       "      <th>Others</th>\n",
       "      <th>Operation</th>\n",
       "    </tr>\n",
       "  </thead>\n",
       "  <tbody>\n",
       "    <tr>\n",
       "      <td>0</td>\n",
       "      <td>Joan found 70 seashells on the beach . she gav...</td>\n",
       "      <td>43</td>\n",
       "      <td>{'lEquations': ['X = 70 - 27'], 'semantics': [...</td>\n",
       "      <td>-</td>\n",
       "    </tr>\n",
       "    <tr>\n",
       "      <td>1</td>\n",
       "      <td>There were 28 bales of hay in the barn . Tim s...</td>\n",
       "      <td>26</td>\n",
       "      <td>{'lEquations': ['X = 54 - 28'], 'semantics': [...</td>\n",
       "      <td>-</td>\n",
       "    </tr>\n",
       "    <tr>\n",
       "      <td>2</td>\n",
       "      <td>Mary is baking a cake . The recipe wants 8 cup...</td>\n",
       "      <td>6</td>\n",
       "      <td>{'lEquations': ['X = 8 - 2'], 'semantics': [{'...</td>\n",
       "      <td>-</td>\n",
       "    </tr>\n",
       "    <tr>\n",
       "      <td>3</td>\n",
       "      <td>Sara 's high school played 12 basketball games...</td>\n",
       "      <td>8</td>\n",
       "      <td>{'lEquations': ['X = 12 - 4'], 'semantics': [{...</td>\n",
       "      <td>-</td>\n",
       "    </tr>\n",
       "    <tr>\n",
       "      <td>4</td>\n",
       "      <td>There are 22 walnut trees currently in the par...</td>\n",
       "      <td>33</td>\n",
       "      <td>{'lEquations': ['X = 55 - 22'], 'semantics': [...</td>\n",
       "      <td>-</td>\n",
       "    </tr>\n",
       "  </tbody>\n",
       "</table>\n",
       "</div>"
      ],
      "text/plain": [
       "                                            Question Answer  \\\n",
       "0  Joan found 70 seashells on the beach . she gav...     43   \n",
       "1  There were 28 bales of hay in the barn . Tim s...     26   \n",
       "2  Mary is baking a cake . The recipe wants 8 cup...      6   \n",
       "3  Sara 's high school played 12 basketball games...      8   \n",
       "4  There are 22 walnut trees currently in the par...     33   \n",
       "\n",
       "                                              Others Operation  \n",
       "0  {'lEquations': ['X = 70 - 27'], 'semantics': [...         -  \n",
       "1  {'lEquations': ['X = 54 - 28'], 'semantics': [...         -  \n",
       "2  {'lEquations': ['X = 8 - 2'], 'semantics': [{'...         -  \n",
       "3  {'lEquations': ['X = 12 - 4'], 'semantics': [{...         -  \n",
       "4  {'lEquations': ['X = 55 - 22'], 'semantics': [...         -  "
      ]
     },
     "execution_count": 2,
     "metadata": {},
     "output_type": "execute_result"
    }
   ],
   "source": [
    "file = open(\"Raw_data_files/add_sub.txt\")\n",
    "add_sub_data = json.load(file)\n",
    "\n",
    "All_Questions = [x[\"sQuestion\"] for x in add_sub_data]\n",
    "All_Answers = [x[\"lSolutions\"][0] for x in add_sub_data]\n",
    "All_Others = [{\"lEquations\" : x[\"lEquations\"], \"semantics\": x[\"semantics\"]} for x in add_sub_data]\n",
    "\n",
    "dictionary = {\n",
    "    \"Question\" : All_Questions,\n",
    "    \"Answer\" : All_Answers,\n",
    "    \"Others\" : All_Others,\n",
    "}\n",
    "df_add_sub = pd.DataFrame(dictionary)\n",
    "\n",
    "def func(x):\n",
    "    equation = x[\"lEquations\"][0]\n",
    "    operation = \"\"\n",
    "    if(\"+\" in equation):\n",
    "        operation += \"+\"\n",
    "    if(\"-\" in equation):\n",
    "        operation += \"-\"\n",
    "    if(\"*\" in equation):\n",
    "        operation += \"*\"\n",
    "    if(\"/\" in equation):\n",
    "        operation += \"/\"\n",
    "    return operation\n",
    "    \n",
    "df_add_sub[\"Operation\"] = df_add_sub[\"Others\"].apply(func)\n",
    "\n",
    "print(df_add_sub.shape)\n",
    "df_add_sub.head()"
   ]
  },
  {
   "cell_type": "markdown",
   "metadata": {},
   "source": [
    "# single op"
   ]
  },
  {
   "cell_type": "code",
   "execution_count": 3,
   "metadata": {},
   "outputs": [
    {
     "name": "stdout",
     "output_type": "stream",
     "text": [
      "(562, 4)\n"
     ]
    },
    {
     "data": {
      "text/html": [
       "<div>\n",
       "<style scoped>\n",
       "    .dataframe tbody tr th:only-of-type {\n",
       "        vertical-align: middle;\n",
       "    }\n",
       "\n",
       "    .dataframe tbody tr th {\n",
       "        vertical-align: top;\n",
       "    }\n",
       "\n",
       "    .dataframe thead th {\n",
       "        text-align: right;\n",
       "    }\n",
       "</style>\n",
       "<table border=\"1\" class=\"dataframe\">\n",
       "  <thead>\n",
       "    <tr style=\"text-align: right;\">\n",
       "      <th></th>\n",
       "      <th>Question</th>\n",
       "      <th>Answer</th>\n",
       "      <th>Others</th>\n",
       "      <th>Operation</th>\n",
       "    </tr>\n",
       "  </thead>\n",
       "  <tbody>\n",
       "    <tr>\n",
       "      <td>0</td>\n",
       "      <td>Darius drove 679 miles to visit his grandmoth...</td>\n",
       "      <td>1677.0</td>\n",
       "      <td>{'lEquations': ['X=(679.0+998.0)'], 'lAllignme...</td>\n",
       "      <td>+</td>\n",
       "    </tr>\n",
       "    <tr>\n",
       "      <td>1</td>\n",
       "      <td>Gumballs come in packages of 5. Nathan ate 20 ...</td>\n",
       "      <td>4.0</td>\n",
       "      <td>{'lEquations': ['X=(20.0/5.0)'], 'lAllignments...</td>\n",
       "      <td>/</td>\n",
       "    </tr>\n",
       "    <tr>\n",
       "      <td>2</td>\n",
       "      <td>If Harold split 15 apples between 3 people in ...</td>\n",
       "      <td>5.0</td>\n",
       "      <td>{'lEquations': ['X=(15.0/3.0)'], 'lAllignments...</td>\n",
       "      <td>/</td>\n",
       "    </tr>\n",
       "    <tr>\n",
       "      <td>3</td>\n",
       "      <td>George has 2 boxes of blocks. Each box holds 6...</td>\n",
       "      <td>12.0</td>\n",
       "      <td>{'lEquations': ['X=(2.0*6.0)'], 'lAllignments'...</td>\n",
       "      <td>*</td>\n",
       "    </tr>\n",
       "    <tr>\n",
       "      <td>4</td>\n",
       "      <td>Eric wants to split a collection of peanuts in...</td>\n",
       "      <td>8.0</td>\n",
       "      <td>{'lEquations': ['X=(64.0/8.0)'], 'lAllignments...</td>\n",
       "      <td>/</td>\n",
       "    </tr>\n",
       "  </tbody>\n",
       "</table>\n",
       "</div>"
      ],
      "text/plain": [
       "                                            Question  Answer  \\\n",
       "0   Darius drove 679 miles to visit his grandmoth...  1677.0   \n",
       "1  Gumballs come in packages of 5. Nathan ate 20 ...     4.0   \n",
       "2  If Harold split 15 apples between 3 people in ...     5.0   \n",
       "3  George has 2 boxes of blocks. Each box holds 6...    12.0   \n",
       "4  Eric wants to split a collection of peanuts in...     8.0   \n",
       "\n",
       "                                              Others Operation  \n",
       "0  {'lEquations': ['X=(679.0+998.0)'], 'lAllignme...         +  \n",
       "1  {'lEquations': ['X=(20.0/5.0)'], 'lAllignments...         /  \n",
       "2  {'lEquations': ['X=(15.0/3.0)'], 'lAllignments...         /  \n",
       "3  {'lEquations': ['X=(2.0*6.0)'], 'lAllignments'...         *  \n",
       "4  {'lEquations': ['X=(64.0/8.0)'], 'lAllignments...         /  "
      ]
     },
     "execution_count": 3,
     "metadata": {},
     "output_type": "execute_result"
    }
   ],
   "source": [
    "file = open(\"Raw_data_files/single_op.txt\")\n",
    "single_op_data = json.load(file)\n",
    "All_Questions = [x[\"sQuestion\"] for x in single_op_data]\n",
    "All_Answers = [x[\"lSolutions\"][0] for x in single_op_data]\n",
    "All_Others = [{\"lEquations\" : x[\"lEquations\"], \"lAllignments\": x[\"lAlignments\"]} for x in single_op_data]\n",
    "\n",
    "dictionary = {\n",
    "    \"Question\" : All_Questions,\n",
    "    \"Answer\" : All_Answers,\n",
    "    \"Others\" : All_Others,\n",
    "}\n",
    "df_single_op = pd.DataFrame(dictionary)\n",
    "\n",
    "\n",
    "df_single_op[\"Operation\"] = df_single_op[\"Others\"].apply(func)\n",
    "print(df_single_op.shape)\n",
    "df_single_op.head()"
   ]
  },
  {
   "cell_type": "markdown",
   "metadata": {},
   "source": [
    "# multiarith"
   ]
  },
  {
   "cell_type": "code",
   "execution_count": 4,
   "metadata": {},
   "outputs": [
    {
     "name": "stdout",
     "output_type": "stream",
     "text": [
      "(600, 4)\n"
     ]
    },
    {
     "data": {
      "text/html": [
       "<div>\n",
       "<style scoped>\n",
       "    .dataframe tbody tr th:only-of-type {\n",
       "        vertical-align: middle;\n",
       "    }\n",
       "\n",
       "    .dataframe tbody tr th {\n",
       "        vertical-align: top;\n",
       "    }\n",
       "\n",
       "    .dataframe thead th {\n",
       "        text-align: right;\n",
       "    }\n",
       "</style>\n",
       "<table border=\"1\" class=\"dataframe\">\n",
       "  <thead>\n",
       "    <tr style=\"text-align: right;\">\n",
       "      <th></th>\n",
       "      <th>Question</th>\n",
       "      <th>Answer</th>\n",
       "      <th>Others</th>\n",
       "      <th>Operation</th>\n",
       "    </tr>\n",
       "  </thead>\n",
       "  <tbody>\n",
       "    <tr>\n",
       "      <td>0</td>\n",
       "      <td>For Halloween Debby and her sister combined t...</td>\n",
       "      <td>39.0</td>\n",
       "      <td>{'lEquations': ['X=((32.0+42.0)-35.0)'], 'lAll...</td>\n",
       "      <td>+-</td>\n",
       "    </tr>\n",
       "    <tr>\n",
       "      <td>1</td>\n",
       "      <td>A pet store had 13 siamese cats and 5 house c...</td>\n",
       "      <td>8.0</td>\n",
       "      <td>{'lEquations': ['X=((13.0+5.0)-10.0)'], 'lAlli...</td>\n",
       "      <td>+-</td>\n",
       "    </tr>\n",
       "    <tr>\n",
       "      <td>2</td>\n",
       "      <td>Luke was trying to expand his game collection...</td>\n",
       "      <td>2.0</td>\n",
       "      <td>{'lEquations': ['X=((2.0+2.0)-2.0)'], 'lAllign...</td>\n",
       "      <td>+-</td>\n",
       "    </tr>\n",
       "    <tr>\n",
       "      <td>3</td>\n",
       "      <td>The school cafeteria ordered 42 red apples an...</td>\n",
       "      <td>40.0</td>\n",
       "      <td>{'lEquations': ['X=((42.0+7.0)-9.0)'], 'lAllig...</td>\n",
       "      <td>+-</td>\n",
       "    </tr>\n",
       "    <tr>\n",
       "      <td>4</td>\n",
       "      <td>Lana picked 36 tulips and 37 roses to make fl...</td>\n",
       "      <td>3.0</td>\n",
       "      <td>{'lEquations': ['X=((36.0+37.0)-70.0)'], 'lAll...</td>\n",
       "      <td>+-</td>\n",
       "    </tr>\n",
       "  </tbody>\n",
       "</table>\n",
       "</div>"
      ],
      "text/plain": [
       "                                            Question  Answer  \\\n",
       "0   For Halloween Debby and her sister combined t...    39.0   \n",
       "1   A pet store had 13 siamese cats and 5 house c...     8.0   \n",
       "2   Luke was trying to expand his game collection...     2.0   \n",
       "3   The school cafeteria ordered 42 red apples an...    40.0   \n",
       "4   Lana picked 36 tulips and 37 roses to make fl...     3.0   \n",
       "\n",
       "                                              Others Operation  \n",
       "0  {'lEquations': ['X=((32.0+42.0)-35.0)'], 'lAll...        +-  \n",
       "1  {'lEquations': ['X=((13.0+5.0)-10.0)'], 'lAlli...        +-  \n",
       "2  {'lEquations': ['X=((2.0+2.0)-2.0)'], 'lAllign...        +-  \n",
       "3  {'lEquations': ['X=((42.0+7.0)-9.0)'], 'lAllig...        +-  \n",
       "4  {'lEquations': ['X=((36.0+37.0)-70.0)'], 'lAll...        +-  "
      ]
     },
     "execution_count": 4,
     "metadata": {},
     "output_type": "execute_result"
    }
   ],
   "source": [
    "file = open(\"Raw_data_files/multi_arith.json\")\n",
    "multi_arith_data = json.load(file)\n",
    "All_Questions = [x[\"sQuestion\"] for x in multi_arith_data]\n",
    "All_Answers = [x[\"lSolutions\"][0] for x in multi_arith_data]\n",
    "All_Others = [{\"lEquations\" : x[\"lEquations\"], \"lAllignments\": x[\"lAlignments\"]} for x in multi_arith_data]\n",
    "\n",
    "dictionary = {\n",
    "    \"Question\" : All_Questions,\n",
    "    \"Answer\" : All_Answers,\n",
    "    \"Others\" : All_Others,\n",
    "}\n",
    "df_multi_arith = pd.DataFrame(dictionary)\n",
    "df_multi_arith[\"Operation\"] = df_multi_arith[\"Others\"].apply(func)\n",
    "print(df_multi_arith.shape)\n",
    "df_multi_arith.head()"
   ]
  },
  {
   "cell_type": "markdown",
   "metadata": {},
   "source": [
    "# single eq"
   ]
  },
  {
   "cell_type": "code",
   "execution_count": 5,
   "metadata": {},
   "outputs": [
    {
     "name": "stdout",
     "output_type": "stream",
     "text": [
      "(508, 4)\n"
     ]
    },
    {
     "data": {
      "text/html": [
       "<div>\n",
       "<style scoped>\n",
       "    .dataframe tbody tr th:only-of-type {\n",
       "        vertical-align: middle;\n",
       "    }\n",
       "\n",
       "    .dataframe tbody tr th {\n",
       "        vertical-align: top;\n",
       "    }\n",
       "\n",
       "    .dataframe thead th {\n",
       "        text-align: right;\n",
       "    }\n",
       "</style>\n",
       "<table border=\"1\" class=\"dataframe\">\n",
       "  <thead>\n",
       "    <tr style=\"text-align: right;\">\n",
       "      <th></th>\n",
       "      <th>Question</th>\n",
       "      <th>Answer</th>\n",
       "      <th>Others</th>\n",
       "      <th>Operation</th>\n",
       "    </tr>\n",
       "  </thead>\n",
       "  <tbody>\n",
       "    <tr>\n",
       "      <td>0</td>\n",
       "      <td>Joan found 70 seashells on the beach. she gave...</td>\n",
       "      <td>43.0</td>\n",
       "      <td>{'lEquations': ['70-x=27']}</td>\n",
       "      <td>-</td>\n",
       "    </tr>\n",
       "    <tr>\n",
       "      <td>1</td>\n",
       "      <td>There were 28 bales of hay in the barn. Tim st...</td>\n",
       "      <td>26.0</td>\n",
       "      <td>{'lEquations': ['28+x=54']}</td>\n",
       "      <td>+</td>\n",
       "    </tr>\n",
       "    <tr>\n",
       "      <td>2</td>\n",
       "      <td>After eating at the restaurant, Sally, Sam, an...</td>\n",
       "      <td>135.0</td>\n",
       "      <td>{'lEquations': ['45*3=x']}</td>\n",
       "      <td>*</td>\n",
       "    </tr>\n",
       "    <tr>\n",
       "      <td>3</td>\n",
       "      <td>Mary is baking a cake. The recipe wants 8 cups...</td>\n",
       "      <td>6.0</td>\n",
       "      <td>{'lEquations': ['8=2+x']}</td>\n",
       "      <td>+</td>\n",
       "    </tr>\n",
       "    <tr>\n",
       "      <td>4</td>\n",
       "      <td>Sara's high school played 12 basketball games ...</td>\n",
       "      <td>8.0</td>\n",
       "      <td>{'lEquations': ['12=x+4']}</td>\n",
       "      <td>+</td>\n",
       "    </tr>\n",
       "  </tbody>\n",
       "</table>\n",
       "</div>"
      ],
      "text/plain": [
       "                                            Question  Answer  \\\n",
       "0  Joan found 70 seashells on the beach. she gave...    43.0   \n",
       "1  There were 28 bales of hay in the barn. Tim st...    26.0   \n",
       "2  After eating at the restaurant, Sally, Sam, an...   135.0   \n",
       "3  Mary is baking a cake. The recipe wants 8 cups...     6.0   \n",
       "4  Sara's high school played 12 basketball games ...     8.0   \n",
       "\n",
       "                        Others Operation  \n",
       "0  {'lEquations': ['70-x=27']}         -  \n",
       "1  {'lEquations': ['28+x=54']}         +  \n",
       "2   {'lEquations': ['45*3=x']}         *  \n",
       "3    {'lEquations': ['8=2+x']}         +  \n",
       "4   {'lEquations': ['12=x+4']}         +  "
      ]
     },
     "execution_count": 5,
     "metadata": {},
     "output_type": "execute_result"
    }
   ],
   "source": [
    "file = open(\"Raw_data_files/single_eq.json\")\n",
    "single_eq_data = json.load(file)\n",
    "All_Questions = [x[\"sQuestion\"] for x in single_eq_data]\n",
    "All_Answers = [x[\"lSolutions\"][0] for x in single_eq_data]\n",
    "All_Others = [{\"lEquations\" : x[\"lEquations\"]} for x in single_eq_data]\n",
    "\n",
    "dictionary = {\n",
    "    \"Question\" : All_Questions,\n",
    "    \"Answer\" : All_Answers,\n",
    "    \"Others\" : All_Others,\n",
    "}\n",
    "df_single_eq = pd.DataFrame(dictionary)\n",
    "df_single_eq[\"Operation\"] = df_single_eq[\"Others\"].apply(func)\n",
    "print(df_single_eq.shape)\n",
    "\n",
    "df_single_eq.head()"
   ]
  },
  {
   "cell_type": "code",
   "execution_count": 6,
   "metadata": {},
   "outputs": [
    {
     "data": {
      "text/plain": [
       "+      604\n",
       "-      400\n",
       "*      233\n",
       "+-     213\n",
       "/      168\n",
       "+*     131\n",
       "-*     105\n",
       "+/     104\n",
       "-/     100\n",
       "*/       2\n",
       "+-*      1\n",
       "         1\n",
       "Name: Operation, dtype: int64"
      ]
     },
     "execution_count": 6,
     "metadata": {},
     "output_type": "execute_result"
    }
   ],
   "source": [
    "df_combined = pd.concat([df_add_sub, df_single_op, df_multi_arith, df_single_eq])\n",
    "df_combined[\"Operation\"].value_counts()"
   ]
  },
  {
   "cell_type": "code",
   "execution_count": 7,
   "metadata": {},
   "outputs": [
    {
     "data": {
      "text/html": [
       "<div>\n",
       "<style scoped>\n",
       "    .dataframe tbody tr th:only-of-type {\n",
       "        vertical-align: middle;\n",
       "    }\n",
       "\n",
       "    .dataframe tbody tr th {\n",
       "        vertical-align: top;\n",
       "    }\n",
       "\n",
       "    .dataframe thead th {\n",
       "        text-align: right;\n",
       "    }\n",
       "</style>\n",
       "<table border=\"1\" class=\"dataframe\">\n",
       "  <thead>\n",
       "    <tr style=\"text-align: right;\">\n",
       "      <th></th>\n",
       "      <th>Question</th>\n",
       "      <th>Answer</th>\n",
       "      <th>Others</th>\n",
       "      <th>Operation</th>\n",
       "      <th>Id</th>\n",
       "    </tr>\n",
       "  </thead>\n",
       "  <tbody>\n",
       "    <tr>\n",
       "      <td>0</td>\n",
       "      <td>Joan found 70 seashells on the beach . she gav...</td>\n",
       "      <td>43</td>\n",
       "      <td>{'lEquations': ['X = 70 - 27'], 'semantics': [...</td>\n",
       "      <td>-</td>\n",
       "      <td>c4ca4238a0b923820dcc509a6f75849b</td>\n",
       "    </tr>\n",
       "    <tr>\n",
       "      <td>1</td>\n",
       "      <td>There were 28 bales of hay in the barn . Tim s...</td>\n",
       "      <td>26</td>\n",
       "      <td>{'lEquations': ['X = 54 - 28'], 'semantics': [...</td>\n",
       "      <td>-</td>\n",
       "      <td>c81e728d9d4c2f636f067f89cc14862c</td>\n",
       "    </tr>\n",
       "    <tr>\n",
       "      <td>2</td>\n",
       "      <td>Mary is baking a cake . The recipe wants 8 cup...</td>\n",
       "      <td>6</td>\n",
       "      <td>{'lEquations': ['X = 8 - 2'], 'semantics': [{'...</td>\n",
       "      <td>-</td>\n",
       "      <td>eccbc87e4b5ce2fe28308fd9f2a7baf3</td>\n",
       "    </tr>\n",
       "    <tr>\n",
       "      <td>3</td>\n",
       "      <td>Sara 's high school played 12 basketball games...</td>\n",
       "      <td>8</td>\n",
       "      <td>{'lEquations': ['X = 12 - 4'], 'semantics': [{...</td>\n",
       "      <td>-</td>\n",
       "      <td>a87ff679a2f3e71d9181a67b7542122c</td>\n",
       "    </tr>\n",
       "    <tr>\n",
       "      <td>4</td>\n",
       "      <td>There are 22 walnut trees currently in the par...</td>\n",
       "      <td>33</td>\n",
       "      <td>{'lEquations': ['X = 55 - 22'], 'semantics': [...</td>\n",
       "      <td>-</td>\n",
       "      <td>e4da3b7fbbce2345d7772b0674a318d5</td>\n",
       "    </tr>\n",
       "  </tbody>\n",
       "</table>\n",
       "</div>"
      ],
      "text/plain": [
       "                                            Question Answer  \\\n",
       "0  Joan found 70 seashells on the beach . she gav...     43   \n",
       "1  There were 28 bales of hay in the barn . Tim s...     26   \n",
       "2  Mary is baking a cake . The recipe wants 8 cup...      6   \n",
       "3  Sara 's high school played 12 basketball games...      8   \n",
       "4  There are 22 walnut trees currently in the par...     33   \n",
       "\n",
       "                                              Others Operation  \\\n",
       "0  {'lEquations': ['X = 70 - 27'], 'semantics': [...         -   \n",
       "1  {'lEquations': ['X = 54 - 28'], 'semantics': [...         -   \n",
       "2  {'lEquations': ['X = 8 - 2'], 'semantics': [{'...         -   \n",
       "3  {'lEquations': ['X = 12 - 4'], 'semantics': [{...         -   \n",
       "4  {'lEquations': ['X = 55 - 22'], 'semantics': [...         -   \n",
       "\n",
       "                                 Id  \n",
       "0  c4ca4238a0b923820dcc509a6f75849b  \n",
       "1  c81e728d9d4c2f636f067f89cc14862c  \n",
       "2  eccbc87e4b5ce2fe28308fd9f2a7baf3  \n",
       "3  a87ff679a2f3e71d9181a67b7542122c  \n",
       "4  e4da3b7fbbce2345d7772b0674a318d5  "
      ]
     },
     "execution_count": 7,
     "metadata": {},
     "output_type": "execute_result"
    }
   ],
   "source": [
    "df_combined[\"Id\"], questions_hashed = get_ids_for_range(1, df_combined.shape[0])\n",
    "total_questions_hashed += questions_hashed\n",
    "df_combined[\"Answer\"] = df_combined[\"Answer\"].apply(convert_int_answer_to_int)\n",
    "df_combined.head()"
   ]
  },
  {
   "cell_type": "code",
   "execution_count": 8,
   "metadata": {},
   "outputs": [
    {
     "data": {
      "text/plain": [
       "(2062, 2062)"
      ]
     },
     "execution_count": 8,
     "metadata": {},
     "output_type": "execute_result"
    }
   ],
   "source": [
    "questions_hashed, total_questions_hashed"
   ]
  },
  {
   "cell_type": "markdown",
   "metadata": {},
   "source": [
    "# Split data into stages"
   ]
  },
  {
   "cell_type": "code",
   "execution_count": 9,
   "metadata": {},
   "outputs": [],
   "source": [
    "# Stage 1 \n",
    "\n",
    "stage1_add_df = shuffle(df_combined[df_combined[\"Operation\"] == \"+\"])\n",
    "\n",
    "stage1_sub_df = shuffle(df_combined[df_combined[\"Operation\"] == \"-\"])\n",
    "\n",
    "\n",
    "# Stage 2\n",
    "\n",
    "stage2_mul_df = shuffle(df_combined[df_combined[\"Operation\"] == \"*\"])\n",
    "stage2_div_df = shuffle(df_combined[df_combined[\"Operation\"] == \"/\"])\n",
    "\n",
    "# Stage 3 \n",
    "\n",
    "stage3_add_sub = shuffle(df_combined[df_combined[\"Operation\"] == \"+-\"])\n",
    "stage3_add_mul = shuffle(df_combined[df_combined[\"Operation\"] == \"+*\"])\n",
    "stage3_sub_div = shuffle(df_combined[df_combined[\"Operation\"] == \"-/\"])\n",
    "stage3_add_div = shuffle(df_combined[df_combined[\"Operation\"] == \"+/\"])\n",
    "stage3_sub_mul = shuffle(df_combined[df_combined[\"Operation\"] == \"-*\"])\n",
    "# stage3_mul_div = shuffle(df_combined[df_combined[\"Operation\"] == \"*/\"])\n"
   ]
  },
  {
   "cell_type": "code",
   "execution_count": 10,
   "metadata": {},
   "outputs": [
    {
     "name": "stdout",
     "output_type": "stream",
     "text": [
      "(604, 5) (400, 5)\n",
      "(233, 5) (168, 5)\n",
      "(213, 5) (131, 5) (100, 5) (104, 5) (105, 5)\n"
     ]
    }
   ],
   "source": [
    "print(stage1_add_df.shape, stage1_sub_df.shape)\n",
    "print(stage2_mul_df.shape, stage2_div_df.shape)\n",
    "print(stage3_add_sub.shape, stage3_add_mul.shape, stage3_sub_div.shape,  stage3_add_div.shape, stage3_sub_mul.shape)"
   ]
  },
  {
   "cell_type": "code",
   "execution_count": 11,
   "metadata": {},
   "outputs": [],
   "source": [
    "# Stage 1 \n",
    "\n",
    "stage1_add_test_df = stage1_add_df.iloc[:10]\n",
    "stage1_add_train_df = stage1_add_df.iloc[10:]\n",
    "stage1_sub_test_df = stage1_sub_df.iloc[:10]\n",
    "stage1_sub_train_df = stage1_sub_df.iloc[10:]\n",
    "stage1_train_df = pd.concat([stage1_add_train_df, stage1_sub_train_df])\n",
    "stage1_individual_test_df = pd.concat([stage1_add_test_df, stage1_sub_test_df])\n",
    "stage1_individual_test_df[\"Stage\"] = \"stage1\"\n",
    "write_df_to_json(stage1_train_df, \"./data/stage1_train.json\", [\"Question\", \"Answer\", \"Id\"])\n"
   ]
  },
  {
   "cell_type": "code",
   "execution_count": 12,
   "metadata": {},
   "outputs": [],
   "source": [
    "# Stage 2 \n",
    "\n",
    "stage2_mul_test_df = stage2_mul_df.iloc[:10]\n",
    "stage2_mul_train_df = stage2_mul_df.iloc[10:]\n",
    "\n",
    "stage2_div_test_df = stage2_div_df.iloc[:10]\n",
    "stage2_div_train_df = stage2_div_df.iloc[10:]\n",
    "\n",
    "stage2_train_df = pd.concat([stage2_mul_train_df, stage2_div_train_df])\n",
    "\n",
    "stage2_individual_test_df = pd.concat([stage2_mul_test_df, stage2_div_test_df])\n",
    "stage2_individual_test_df[\"Stage\"] = \"stage2\"\n",
    "stage1_test_df = pd.concat([stage1_individual_test_df, stage2_individual_test_df])\n",
    "\n",
    "write_df_to_json(stage2_train_df, \"./data/stage2_train.json\", [\"Question\", \"Answer\", \"Id\"])\n",
    "write_df_to_json(stage1_test_df, \"./data/stage1_test_with_answer.json\", [\"Question\", \"Answer\", \"Id\", \"Stage\"])\n",
    "write_df_to_json(stage1_test_df, \"./data/stage1_test.json\", [\"Question\", \"Id\"])\n"
   ]
  },
  {
   "cell_type": "code",
   "execution_count": 13,
   "metadata": {},
   "outputs": [],
   "source": [
    "# Stage 3 total\n",
    "\n",
    "stage3_add_sub_test_df = stage3_add_sub[:4]\n",
    "stage3_add_sub_train_df = stage3_add_sub[4:]\n",
    "\n",
    "stage3_add_mul_test_df = stage3_add_mul[:4]\n",
    "stage3_add_mul_train_df = stage3_add_mul[4:]\n",
    "\n",
    "stage3_sub_div_test_df = stage3_sub_div[:4]\n",
    "stage3_sub_div_train_df = stage3_sub_div[4:]\n",
    "\n",
    "stage3_add_div_test_df = stage3_add_div[:4]\n",
    "stage3_add_div_train_df = stage3_add_div[4:]\n",
    "\n",
    "stage3_sub_mul_test_df = stage3_sub_mul[:4]\n",
    "stage3_sub_mul_train_df = stage3_sub_mul[4:]\n",
    "\n",
    "stage3_train_df = pd.concat([stage3_add_sub_train_df, stage3_add_mul_train_df,\n",
    "                            stage3_sub_div_train_df, stage3_add_div_train_df,\n",
    "                            stage3_sub_mul_train_df])\n",
    "\n",
    "stage3_individual_test_df = pd.concat([stage3_add_sub_test_df, stage3_add_mul_test_df,\n",
    "                            stage3_sub_div_test_df, stage3_add_div_test_df,\n",
    "                            stage3_sub_mul_test_df])\n",
    "\n",
    "stage3_individual_test_df[\"Stage\"] = \"stage3\"\n",
    "stage2_test_df = pd.concat([stage2_individual_test_df, stage3_individual_test_df])\n",
    "\n",
    "write_df_to_json(stage3_train_df, \"./data/stage3_train.json\", [\"Question\", \"Answer\", \"Id\"])\n",
    "write_df_to_json(stage2_test_df, \"./data/stage2_test_with_answer.json\", [\"Question\", \"Answer\", \"Id\", \"Stage\"])\n",
    "write_df_to_json(stage2_test_df, \"./data/stage2_test.json\", [\"Question\", \"Id\"])\n"
   ]
  },
  {
   "cell_type": "markdown",
   "metadata": {},
   "source": [
    "# simuleq"
   ]
  },
  {
   "cell_type": "code",
   "execution_count": 14,
   "metadata": {},
   "outputs": [
    {
     "data": {
      "text/plain": [
       "{'iIndex': 2598,\n",
       " 'sQuestion': 'A writing workshop enrolls novelists and poets in a ratio of 5 to 3. There are 24 people at the workshop. How many novelists are there? How many poets are there?',\n",
       " 'lEquations': ['3.0*novelists=5.0*poets', 'novelists+poets=24.0'],\n",
       " 'lSolutions': [15.0, 9.0]}"
      ]
     },
     "execution_count": 14,
     "metadata": {},
     "output_type": "execute_result"
    }
   ],
   "source": [
    "# Extract simul-eq data\n",
    "\n",
    "fp = urllib.request.urlopen(\"http://groups.csail.mit.edu/rbg/code/wordprobs/questions.json\")\n",
    "mybytes = fp.read()\n",
    "\n",
    "mystr = mybytes.decode(\"utf8\")\n",
    "simul_eq_data = json.loads(mystr)\n",
    "simul_eq_data[0]"
   ]
  },
  {
   "cell_type": "code",
   "execution_count": 15,
   "metadata": {},
   "outputs": [
    {
     "name": "stdout",
     "output_type": "stream",
     "text": [
      "(492, 5)\n"
     ]
    },
    {
     "data": {
      "text/html": [
       "<div>\n",
       "<style scoped>\n",
       "    .dataframe tbody tr th:only-of-type {\n",
       "        vertical-align: middle;\n",
       "    }\n",
       "\n",
       "    .dataframe tbody tr th {\n",
       "        vertical-align: top;\n",
       "    }\n",
       "\n",
       "    .dataframe thead th {\n",
       "        text-align: right;\n",
       "    }\n",
       "</style>\n",
       "<table border=\"1\" class=\"dataframe\">\n",
       "  <thead>\n",
       "    <tr style=\"text-align: right;\">\n",
       "      <th></th>\n",
       "      <th>Question</th>\n",
       "      <th>Answer</th>\n",
       "      <th>Others</th>\n",
       "      <th>Operation</th>\n",
       "      <th>Id</th>\n",
       "    </tr>\n",
       "  </thead>\n",
       "  <tbody>\n",
       "    <tr>\n",
       "      <td>131</td>\n",
       "      <td>You have 30 total items that consist of hats a...</td>\n",
       "      <td>10,20</td>\n",
       "      <td>{'lEquations': ['(9.0*boots)+(5.0*hats)=190.0'...</td>\n",
       "      <td>*++</td>\n",
       "      <td>1c6a0198177bfcc9bd93f6aab94aad3c</td>\n",
       "    </tr>\n",
       "    <tr>\n",
       "      <td>231</td>\n",
       "      <td>Two cars leave the same point , traveling in o...</td>\n",
       "      <td>3.5</td>\n",
       "      <td>{'lEquations': ['(52.0*hours)+(58.0*hours)=385...</td>\n",
       "      <td>*+</td>\n",
       "      <td>ae1eaa32d10b6c886981755d579fb4d8</td>\n",
       "    </tr>\n",
       "    <tr>\n",
       "      <td>490</td>\n",
       "      <td>On a canoe trip , Rita paddled upstream at an ...</td>\n",
       "      <td>2.5,0.5</td>\n",
       "      <td>{'lEquations': ['speed_rita+speed_current=3.0'...</td>\n",
       "      <td>+-</td>\n",
       "      <td>217c0e01c1828e7279051f1b6675745d</td>\n",
       "    </tr>\n",
       "    <tr>\n",
       "      <td>227</td>\n",
       "      <td>The second of two numbers is 4 more than the f...</td>\n",
       "      <td>26,30</td>\n",
       "      <td>{'lEquations': ['4.0+first=second', 'second+fi...</td>\n",
       "      <td>++</td>\n",
       "      <td>0f46c64b74a6c964c674853a89796c8e</td>\n",
       "    </tr>\n",
       "    <tr>\n",
       "      <td>385</td>\n",
       "      <td>A direct flight on delta air lines from Atlant...</td>\n",
       "      <td>450,50</td>\n",
       "      <td>{'lEquations': ['(plane+wind)*8.0=4000.0', '(p...</td>\n",
       "      <td>**+-</td>\n",
       "      <td>cbf8710b43df3f2c1553e649403426df</td>\n",
       "    </tr>\n",
       "  </tbody>\n",
       "</table>\n",
       "</div>"
      ],
      "text/plain": [
       "                                              Question   Answer  \\\n",
       "131  You have 30 total items that consist of hats a...    10,20   \n",
       "231  Two cars leave the same point , traveling in o...      3.5   \n",
       "490  On a canoe trip , Rita paddled upstream at an ...  2.5,0.5   \n",
       "227  The second of two numbers is 4 more than the f...    26,30   \n",
       "385  A direct flight on delta air lines from Atlant...   450,50   \n",
       "\n",
       "                                                Others Operation  \\\n",
       "131  {'lEquations': ['(9.0*boots)+(5.0*hats)=190.0'...       *++   \n",
       "231  {'lEquations': ['(52.0*hours)+(58.0*hours)=385...        *+   \n",
       "490  {'lEquations': ['speed_rita+speed_current=3.0'...        +-   \n",
       "227  {'lEquations': ['4.0+first=second', 'second+fi...        ++   \n",
       "385  {'lEquations': ['(plane+wind)*8.0=4000.0', '(p...      **+-   \n",
       "\n",
       "                                   Id  \n",
       "131  1c6a0198177bfcc9bd93f6aab94aad3c  \n",
       "231  ae1eaa32d10b6c886981755d579fb4d8  \n",
       "490  217c0e01c1828e7279051f1b6675745d  \n",
       "227  0f46c64b74a6c964c674853a89796c8e  \n",
       "385  cbf8710b43df3f2c1553e649403426df  "
      ]
     },
     "execution_count": 15,
     "metadata": {},
     "output_type": "execute_result"
    }
   ],
   "source": [
    "def func(x):\n",
    "    operation = \"\"\n",
    "\n",
    "    for equation in x[\"lEquations\"]:\n",
    "        if(\"+\" in equation):\n",
    "            operation += \"+\"\n",
    "        if(\"-\" in equation):\n",
    "            operation += \"-\"\n",
    "        if(\"*\" in equation):\n",
    "            operation += \"*\"\n",
    "        if(\"/\" in equation):\n",
    "            operation += \"/\"\n",
    "    return ''.join(sorted(operation)) \n",
    "\n",
    "All_Questions = [x[\"sQuestion\"] for x in simul_eq_data]\n",
    "All_Answers = [x[\"lSolutions\"] for x in simul_eq_data]\n",
    "All_Others = [{\"lEquations\" : x[\"lEquations\"]} for x in simul_eq_data]\n",
    "\n",
    "dictionary = {\n",
    "    \"Question\" : All_Questions,\n",
    "    \"Answer\" : All_Answers,\n",
    "    \"Others\" : All_Others,\n",
    "}\n",
    "df_simul_eq = pd.DataFrame(dictionary)\n",
    "\n",
    "def answer_func(x):\n",
    "    if(len(x) == 1):\n",
    "        return convert_int_answer_to_int(x[0])\n",
    "    elif(len(x) == 2):\n",
    "        s = [convert_int_answer_to_int(i) for i in x] \n",
    "        return \",\".join(s)\n",
    "              \n",
    "df_simul_eq[\"Answer\"] = df_simul_eq[\"Answer\"].apply(answer_func)\n",
    "df_simul_eq[\"Operation\"] = df_simul_eq[\"Others\"].apply(func)\n",
    "\n",
    "df_simul_eq.drop(df_simul_eq[df_simul_eq[\"Operation\"] == \"+\"].index, inplace = True)\n",
    "df_simul_eq.drop(df_simul_eq[df_simul_eq[\"Operation\"] == \"-\"].index, inplace = True)\n",
    "df_simul_eq.drop(df_simul_eq[df_simul_eq[\"Operation\"] == \"*\"].index, inplace = True)\n",
    "df_simul_eq.drop(df_simul_eq[df_simul_eq[\"Operation\"] == \"/\"].index, inplace = True)\n",
    "\n",
    "df_simul_eq[\"Id\"], questions_hashed = get_ids_for_range(total_questions_hashed + 1, df_simul_eq.shape[0])\n",
    "total_questions_hashed += questions_hashed\n",
    "\n",
    "\n",
    "df_simul_eq[\"Answer\"] = df_simul_eq[\"Answer\"].apply(convert_int_answer_to_int)\n",
    "df_simul_eq = shuffle(df_simul_eq)\n",
    "\n",
    "print(df_simul_eq.shape)\n",
    "df_simul_eq.head()"
   ]
  },
  {
   "cell_type": "code",
   "execution_count": 16,
   "metadata": {},
   "outputs": [
    {
     "data": {
      "text/plain": [
       "(492, 2554)"
      ]
     },
     "execution_count": 16,
     "metadata": {},
     "output_type": "execute_result"
    }
   ],
   "source": [
    "questions_hashed, total_questions_hashed"
   ]
  },
  {
   "cell_type": "code",
   "execution_count": 17,
   "metadata": {},
   "outputs": [
    {
     "name": "stderr",
     "output_type": "stream",
     "text": [
      "/Users/neerajvarshney/opt/anaconda3/lib/python3.7/site-packages/ipykernel_launcher.py:2: SettingWithCopyWarning: \n",
      "A value is trying to be set on a copy of a slice from a DataFrame.\n",
      "Try using .loc[row_indexer,col_indexer] = value instead\n",
      "\n",
      "See the caveats in the documentation: http://pandas.pydata.org/pandas-docs/stable/user_guide/indexing.html#returning-a-view-versus-a-copy\n",
      "  \n"
     ]
    }
   ],
   "source": [
    "stage4_individual_test_df = df_simul_eq.iloc[:20]\n",
    "stage4_individual_test_df[\"Stage\"] = \"stage4\"\n",
    "stage4_train_df =  df_simul_eq.iloc[20:]\n",
    "\n",
    "stage3_test_df = pd.concat([stage3_individual_test_df, stage4_individual_test_df])\n",
    "write_df_to_json(stage4_train_df, \"./data/stage4_train.json\", [\"Question\", \"Answer\", \"Id\"])\n",
    "write_df_to_json(stage3_test_df, \"./data/stage3_test_with_answer.json\", [\"Question\", \"Answer\", \"Id\", \"Stage\"])\n",
    "write_df_to_json(stage3_test_df, \"./data/stage3_test.json\", [\"Question\", \"Id\"])\n"
   ]
  }
 ],
 "metadata": {
  "kernelspec": {
   "display_name": "Python 3",
   "language": "python",
   "name": "python3"
  },
  "language_info": {
   "codemirror_mode": {
    "name": "ipython",
    "version": 3
   },
   "file_extension": ".py",
   "mimetype": "text/x-python",
   "name": "python",
   "nbconvert_exporter": "python",
   "pygments_lexer": "ipython3",
   "version": "3.7.4"
  }
 },
 "nbformat": 4,
 "nbformat_minor": 2
}
